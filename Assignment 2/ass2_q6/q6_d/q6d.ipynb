{
  "nbformat": 4,
  "nbformat_minor": 0,
  "metadata": {
    "colab": {
      "name": "iit2018146_q6d.ipynb",
      "provenance": [],
      "collapsed_sections": []
    },
    "kernelspec": {
      "name": "python3",
      "display_name": "Python 3"
    }
  },
  "cells": [
    {
      "cell_type": "code",
      "metadata": {
        "id": "CUZpFS38MUGI",
        "colab_type": "code",
        "colab": {}
      },
      "source": [
        "import numpy as np\n",
        "import matplotlib.pyplot as plt\n",
        "import csv "
      ],
      "execution_count": 210,
      "outputs": []
    },
    {
      "cell_type": "code",
      "metadata": {
        "id": "HNlL2EXcWlJH",
        "colab_type": "code",
        "colab": {}
      },
      "source": [
        "filepath='/Housing Price data set.csv'"
      ],
      "execution_count": 211,
      "outputs": []
    },
    {
      "cell_type": "markdown",
      "metadata": {
        "id": "k86SUeeuq4Zi",
        "colab_type": "text"
      },
      "source": [
        "# **Storing the value**"
      ]
    },
    {
      "cell_type": "code",
      "metadata": {
        "id": "7cX2I62CWsvw",
        "colab_type": "code",
        "colab": {}
      },
      "source": [
        "price=[]\n",
        "area=[]\n",
        "bedroom=[]\n",
        "bathroom=[]\n",
        "count=0\n",
        "with open(filepath, mode ='r') as file:     \n",
        "   csvFile = csv.reader(file) \n",
        "   for lines in csvFile:\n",
        "     if count==0:\n",
        "       count=count+1\n",
        "       continue\n",
        "     price.append(int(float(lines[1])))\n",
        "     area.append(int(lines[2]))\n",
        "     bedroom.append(int(lines[3]))\n",
        "     bathroom.append(int(lines[4]))"
      ],
      "execution_count": 212,
      "outputs": []
    },
    {
      "cell_type": "code",
      "metadata": {
        "id": "fSFl9zxnXzE3",
        "colab_type": "code",
        "colab": {}
      },
      "source": [
        "m= len(price)\n",
        "n=4\n",
        "X1=np.array(area)\n",
        "X2=np.array(bedroom)\n",
        "X3=np.array(bathroom)\n",
        "Y=np.array(price)\n",
        "X0=np.ones(m,dtype=int)"
      ],
      "execution_count": 213,
      "outputs": []
    },
    {
      "cell_type": "markdown",
      "metadata": {
        "id": "9QmrtauVq-6Y",
        "colab_type": "text"
      },
      "source": [
        "# **Training data**"
      ]
    },
    {
      "cell_type": "code",
      "metadata": {
        "id": "-WEPTVgqa5M_",
        "colab_type": "code",
        "colab": {}
      },
      "source": [
        "X=[]\n",
        "for i  in range(m):\n",
        "  col=[]\n",
        "  col.append(X0[i])\n",
        "  col.append(X1[i])\n",
        "  col.append(X2[i])\n",
        "  col.append(X3[i])\n",
        "  X.append(col)\n",
        "X=np.array(X)\n",
        "# X=np.array([X0,X1,X2,X3])\n",
        "# print(X)\n",
        "# print(X.shape)\n"
      ],
      "execution_count": 214,
      "outputs": []
    },
    {
      "cell_type": "markdown",
      "metadata": {
        "id": "EWgf7YA4xBBM",
        "colab_type": "text"
      },
      "source": [
        "# **LWR Algorithm**"
      ]
    },
    {
      "cell_type": "code",
      "metadata": {
        "id": "zpJcDfHNXxQ6",
        "colab_type": "code",
        "colab": {}
      },
      "source": [
        "def weight_matrix(X,input_x,tawo):\n",
        "  m=len(X)\n",
        "  wei= np.zeros((m, m))\n",
        "  for i in range(m):\n",
        "    diff = X[i]-input_x\n",
        "    wei[i][i]=np.exp((float(-1/2) * np.dot(diff.T, diff))/(tawo*tawo))\n",
        "\n",
        "  return wei"
      ],
      "execution_count": 215,
      "outputs": []
    },
    {
      "cell_type": "code",
      "metadata": {
        "id": "X-E0_aSSc5tg",
        "colab_type": "code",
        "colab": {}
      },
      "source": [
        "def LWR_algorithm(X,Y,weight):\n",
        "  iteration=10000\n",
        "  learning_rate=0.0000001\n",
        "  theta=np.ones(X[0].size,dtype=float)\n",
        "  # print(theta)\n",
        "  m=len(X)\n",
        "  for i in range(iteration):\n",
        "    predi=np.dot(X,theta)-Y\n",
        "    grad=learning_rate*(1.0/m)*np.dot(np.dot(X.T,weight),predi)\n",
        "    theta=theta-grad\n",
        "\n",
        "  theta=np.array(theta)\n",
        "  return theta"
      ],
      "execution_count": 224,
      "outputs": []
    },
    {
      "cell_type": "code",
      "metadata": {
        "id": "bCitB8M0YX99",
        "colab_type": "code",
        "colab": {
          "base_uri": "https://localhost:8080/",
          "height": 503
        },
        "outputId": "5ecbd307-04e8-4ace-b657-6d99b6f137f4"
      },
      "source": [
        "input_x=[1,8250,3,1]\n",
        "\n",
        "tawo=[0.1,0.4,0.6,0.8,2]\n",
        "predicted_price=[]\n",
        "for i in range(len(tawo)):\n",
        "  weight=weight_matrix(X,input_x,tawo[i])\n",
        "  LWR_theta=LWR_algorithm(X,Y,weight)\n",
        "  predicted_price.append(np.dot(np.transpose(input_x), LWR_theta))\n",
        "print(\"Actual Price for [1,8250,3,1]] : 59900\")\n",
        "print(\" \")\n",
        "print(\"Tawo    Predicted Price\")\n",
        "for i in range(len(tawo)):\n",
        "  print(str(tawo[i])+\"     \" + str(predicted_price[i]))\n",
        "\n",
        "plt.ylabel('Predicetd Price')\n",
        "plt.xlabel('Tawo Value') \n",
        "plt.plot(tawo,predicted_price)\n",
        "print(\" \")\n",
        "print(\"As tawo value decrease , the prediction gets better.\")\n",
        "print(\"The value predicted using LWR algorithm gives best predicted value as compared normalization using gradient descent algo or mini batch algo,\")\n",
        "print(\"\")"
      ],
      "execution_count": 228,
      "outputs": [
        {
          "output_type": "stream",
          "text": [
            "Actual Price for [1,8250,3,1]] : 59900\n",
            " \n",
            "Tawo    Predicted Price\n",
            "0.1     59266.66666666657\n",
            "0.4     59753.56741180414\n",
            "0.6     61855.252836561056\n",
            "0.8     63732.982570189124\n",
            "2     66934.06286380702\n",
            " \n",
            "As tawo value decrease , the prediction gets better.\n",
            "The value predicted using LWR algorithm gives best predicted value as compared normalization using gradient descent algo or mini batch algo,\n",
            "\n"
          ],
          "name": "stdout"
        },
        {
          "output_type": "display_data",
          "data": {
            "image/png": "[encoded data removed]",
            "text/plain": [
              "<Figure size 432x288 with 1 Axes>"
            ]
          },
          "metadata": {
            "tags": [],
            "needs_background": "light"
          }
        }
      ]
    },
    {
      "cell_type": "markdown",
      "metadata": {
        "id": "ebgGdULCI-7s",
        "colab_type": "text"
      },
      "source": [
        "# **Comparison**"
      ]
    },
    {
      "cell_type": "code",
      "metadata": {
        "id": "mEnbO1ytCTCC",
        "colab_type": "code",
        "colab": {}
      },
      "source": [
        "error_lwr_algo=(abs(59900-predicted_price[0])*100)/59900\n",
        "# print(error_lwr_algo)\n",
        "\n",
        "# from question no  6a  the % error prediction was calculated \n",
        "error_without_regulari=18.64542413597011\n",
        "error_with_regulari=18.55689437129676\n",
        "\n",
        "# from question no  6b  the % error prediction was calculated for batch_gda, stocha_gda,mini_batch_gda\n",
        "error_batch_gda=30.229953002026335\n",
        "error_stochastic_gda=30.025839363465924\n",
        "error_mini_batch=47.159202904283795\n",
        "\n",
        "#from question no 6c the% error prediction was calculated for bacth_gda,stochastics_gda,mini_bacth_gda with and without regularization\n",
        "error_batch_gda_regul=30.277880568027697\n",
        "error_stochastic_gda_regul=29.98230067697708\n",
        "error_mini_batch_gda_regul=47.51233426715228"
      ],
      "execution_count": 229,
      "outputs": []
    },
    {
      "cell_type": "code",
      "metadata": {
        "id": "RjAugvvkFtp-",
        "colab_type": "code",
        "colab": {
          "base_uri": "https://localhost:8080/",
          "height": 238
        },
        "outputId": "bbfa9f53-84bb-4e85-faf8-cedef5ad742d"
      },
      "source": [
        "print(\"Comparison\")\n",
        "print(\" \")\n",
        "print(\"Algorithm Name                      %error\")\n",
        "print(\"\")\n",
        "print(\"error_lwr_algo             \"+\"    \"+ str(error_lwr_algo))\n",
        "print(\"error_without_regulari     \"+\"    \"+str(error_without_regulari))\n",
        "print(\"error_with_regulari        \"+\"    \"+str(error_with_regulari))\n",
        "print(\"error_batch_gda            \"+\"    \"+str(error_batch_gda))\n",
        "print(\"error_stochastic_gda       \"+\"    \"+str(error_stochastic_gda))\n",
        "print(\"error_mini_batch           \"+\"    \"+str(error_mini_batch))\n",
        "print(\"error_batch_gda_regul      \"+\"    \"+str(error_batch_gda_regul))\n",
        "print(\"error_stochastic_gda_regul \"+\"    \"+str(error_stochastic_gda_regul))\n",
        "print(\"error_mini_batch_gda_regul \"+\"    \"+str(error_mini_batch_gda_regul))"
      ],
      "execution_count": 230,
      "outputs": [
        {
          "output_type": "stream",
          "text": [
            "Comparison\n",
            " \n",
            "Algorithm Name                      %error\n",
            "\n",
            "error_lwr_algo                 1.0573177518087318\n",
            "error_without_regulari         18.64542413597011\n",
            "error_with_regulari            18.55689437129676\n",
            "error_batch_gda                30.229953002026335\n",
            "error_stochastic_gda           30.025839363465924\n",
            "error_mini_batch               47.159202904283795\n",
            "error_batch_gda_regul          30.277880568027697\n",
            "error_stochastic_gda_regul     29.98230067697708\n",
            "error_mini_batch_gda_regul     47.51233426715228\n"
          ],
          "name": "stdout"
        }
      ]
    }
  ]
}