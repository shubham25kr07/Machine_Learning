{
  "nbformat": 4,
  "nbformat_minor": 0,
  "metadata": {
    "colab": {
      "name": "iit2018146_q6.ipynb",
      "provenance": []
    },
    "kernelspec": {
      "name": "python3",
      "display_name": "Python 3"
    }
  },
  "cells": [
    {
      "cell_type": "code",
      "metadata": {
        "id": "CUZpFS38MUGI",
        "colab_type": "code",
        "colab": {}
      },
      "source": [
        "import numpy as np\n",
        "import matplotlib.pyplot as plt\n",
        "import csv "
      ],
      "execution_count": 100,
      "outputs": []
    },
    {
      "cell_type": "code",
      "metadata": {
        "id": "HNlL2EXcWlJH",
        "colab_type": "code",
        "colab": {}
      },
      "source": [
        "filepath='/Housing Price data set.csv'"
      ],
      "execution_count": 101,
      "outputs": []
    },
    {
      "cell_type": "markdown",
      "metadata": {
        "id": "k86SUeeuq4Zi",
        "colab_type": "text"
      },
      "source": [
        "# **Storing the value**"
      ]
    },
    {
      "cell_type": "code",
      "metadata": {
        "id": "7cX2I62CWsvw",
        "colab_type": "code",
        "colab": {}
      },
      "source": [
        "price=[]\n",
        "area=[]\n",
        "bedroom=[]\n",
        "bathroom=[]\n",
        "count=0\n",
        "with open(filepath, mode ='r') as file:     \n",
        "   csvFile = csv.reader(file) \n",
        "   for lines in csvFile:\n",
        "     if count==0:\n",
        "       count=count+1\n",
        "       continue\n",
        "     price.append(int(float(lines[1])))\n",
        "     area.append(int(lines[2]))\n",
        "     bedroom.append(int(lines[3]))\n",
        "     bathroom.append(int(lines[4]))"
      ],
      "execution_count": 102,
      "outputs": []
    },
    {
      "cell_type": "code",
      "metadata": {
        "id": "fSFl9zxnXzE3",
        "colab_type": "code",
        "colab": {}
      },
      "source": [
        "m= round(0.7*len(price))\n",
        "n=4\n",
        "X1=np.array(area)\n",
        "X2=np.array(bedroom)\n",
        "X3=np.array(bathroom)\n",
        "Y=np.array(price)"
      ],
      "execution_count": 103,
      "outputs": []
    },
    {
      "cell_type": "markdown",
      "metadata": {
        "id": "9QmrtauVq-6Y",
        "colab_type": "text"
      },
      "source": [
        "# **Training data and Testing data**"
      ]
    },
    {
      "cell_type": "code",
      "metadata": {
        "id": "QDYauYUvaRVc",
        "colab_type": "code",
        "colab": {}
      },
      "source": [
        "X_train1=X1[:m]\n",
        "X_train2=X2[:m]\n",
        "X_train3=X3[:m]\n",
        "Y_train=Y[:m]\n",
        "\n",
        "X_test1=X1[m+1:]\n",
        "X_test2=X2[m+1:]\n",
        "X_test3=X3[m+1:]\n",
        "Y_test=Y[m+1:]\n",
        "\n",
        "X_train0=np.ones(m,dtype=int)\n",
        "X_test0=np.ones(len(X_test1),dtype=int)\n"
      ],
      "execution_count": 104,
      "outputs": []
    },
    {
      "cell_type": "code",
      "metadata": {
        "id": "-WEPTVgqa5M_",
        "colab_type": "code",
        "colab": {}
      },
      "source": [
        "X_train=[]\n",
        "for i  in range(m):\n",
        "  col=[]\n",
        "  col.append(X_train0[i])\n",
        "  col.append(X_train1[i])\n",
        "  col.append(X_train2[i])\n",
        "  col.append(X_train3[i])\n",
        "  X_train.append(col)\n",
        "\n",
        "X_bar=np.array(X_train)"
      ],
      "execution_count": 105,
      "outputs": []
    },
    {
      "cell_type": "markdown",
      "metadata": {
        "id": "3aMIOMy-rM_v",
        "colab_type": "text"
      },
      "source": [
        "# **Normal equations without regularization**"
      ]
    },
    {
      "cell_type": "code",
      "metadata": {
        "id": "6pVv9s-LWAun",
        "colab_type": "code",
        "colab": {}
      },
      "source": [
        "X_tran=X_bar.T\n",
        "X_pro=X_tran.dot(X_bar)\n",
        "W= np.linalg.inv(X_pro).dot(X_tran).dot(Y_train)"
      ],
      "execution_count": 106,
      "outputs": []
    },
    {
      "cell_type": "code",
      "metadata": {
        "id": "I-zvLgXaXxhL",
        "colab_type": "code",
        "colab": {}
      },
      "source": [
        "X_test=[]\n",
        "for i  in range(len(X_test1)):\n",
        "  col=[]\n",
        "  col.append(X_test0[i])\n",
        "  col.append(X_test1[i])\n",
        "  col.append(X_test2[i])\n",
        "  col.append(X_test3[i])\n",
        "  X_test.append(col)\n",
        "\n",
        "X_test=np.array(X_test)\n",
        "# X_test"
      ],
      "execution_count": 107,
      "outputs": []
    },
    {
      "cell_type": "code",
      "metadata": {
        "id": "pf4aJnjCZmCp",
        "colab_type": "code",
        "colab": {}
      },
      "source": [
        "Y_predic=X_test.dot(W)   \n",
        "Y_predic=Y_predic.astype(int)\n",
        "# print(Y_predic)\n",
        "# Y_test"
      ],
      "execution_count": 108,
      "outputs": []
    },
    {
      "cell_type": "code",
      "metadata": {
        "id": "wUFlLkmMeW3z",
        "colab_type": "code",
        "colab": {
          "base_uri": "https://localhost:8080/",
          "height": 307
        },
        "outputId": "504b6469-550d-4f95-c337-08568a93c96f"
      },
      "source": [
        "plt.xticks(rotation=80)\n",
        "plt.scatter(X_test1, Y_test,  color='gray',label=\"Actual data\",marker='o')\n",
        "plt.legend()\n",
        "plt.scatter(X_test1, Y_predic, color='red',label=\"Predicted data\",marker='p')\n",
        "plt.legend()"
      ],
      "execution_count": 109,
      "outputs": [
        {
          "output_type": "execute_result",
          "data": {
            "text/plain": [
              "<matplotlib.legend.Legend at 0x7fdb20f68780>"
            ]
          },
          "metadata": {
            "tags": []
          },
          "execution_count": 109
        },
        {
          "output_type": "display_data",
          "data": {
            "image/png": "[encoded data removed]",
            "text/plain": [
              "<Figure size 432x288 with 1 Axes>"
            ]
          },
          "metadata": {
            "tags": [],
            "needs_background": "light"
          }
        }
      ]
    },
    {
      "cell_type": "markdown",
      "metadata": {
        "id": "xadpOtSfsDmn",
        "colab_type": "text"
      },
      "source": [
        "Accuracy of prediction"
      ]
    },
    {
      "cell_type": "code",
      "metadata": {
        "id": "M5IrCv58bmHZ",
        "colab_type": "code",
        "colab": {
          "base_uri": "https://localhost:8080/",
          "height": 68
        },
        "outputId": "0f5bcfcb-9845-4412-ad02-2d37f1f4b398"
      },
      "source": [
        "error_diff=np.subtract(Y_test,Y_predic)\n",
        "abserror_diff=np.absolute(error_diff)\n",
        "absolute_error=np.divide(abserror_diff,Y_test)\n",
        "mean_ab_error=np.mean(absolute_error)\n",
        "\n",
        "print(\"ACCURACY OF PREDICTION WITHOUT REGULARIZATION\")\n",
        "print(\" \")\n",
        "print(mean_ab_error*100)"
      ],
      "execution_count": 110,
      "outputs": [
        {
          "output_type": "stream",
          "text": [
            "ACCURACY OF PREDICTION WITHOUT REGULARIZATION\n",
            " \n",
            "18.64542413597011\n"
          ],
          "name": "stdout"
        }
      ]
    },
    {
      "cell_type": "markdown",
      "metadata": {
        "id": "hdvSoOD1qOpl",
        "colab_type": "text"
      },
      "source": [
        "## **Normal equations with regularization**"
      ]
    },
    {
      "cell_type": "code",
      "metadata": {
        "id": "5DWPJWg_NBq6",
        "colab_type": "code",
        "colab": {}
      },
      "source": [
        "I=np.identity(4,dtype=int)\n",
        "I[0][0]=0"
      ],
      "execution_count": 111,
      "outputs": []
    },
    {
      "cell_type": "code",
      "metadata": {
        "id": "bJh7TSHIZlYA",
        "colab_type": "code",
        "colab": {}
      },
      "source": [
        "i=0\n",
        "lambd=[]\n",
        "error=[]\n",
        "while i<3000:\n",
        "  Wnew= np.linalg.inv(X_pro+i*I).dot(X_tran).dot(Y_train)\n",
        "  Y_new=X_test.dot(Wnew)\n",
        "  lambd.append(i)\n",
        "  \n",
        "  error_diff=np.subtract(Y_test,Y_new)\n",
        "  abserror_diff=np.absolute(error_diff)\n",
        "  absolute_error=np.divide(abserror_diff,Y_test)\n",
        "  mean_ab_error=np.mean(absolute_error)\n",
        "\n",
        "  error.append(mean_ab_error*100)\n",
        "  i+=1\n",
        "\n",
        "# error"
      ],
      "execution_count": 112,
      "outputs": []
    },
    {
      "cell_type": "markdown",
      "metadata": {
        "id": "aX8aWp1EsFSh",
        "colab_type": "text"
      },
      "source": [
        "Accuracy of prediction"
      ]
    },
    {
      "cell_type": "code",
      "metadata": {
        "id": "w3eA-iVBoXeE",
        "colab_type": "code",
        "colab": {
          "base_uri": "https://localhost:8080/",
          "height": 68
        },
        "outputId": "9073302b-e1f1-4407-efe8-b0ee00e66b57"
      },
      "source": [
        "minerror=np.amin(error)\n",
        "print(\"ACCURACY OF PREDICTION WITH REGULARIZATION\")\n",
        "print(\" \")\n",
        "print(minerror)"
      ],
      "execution_count": 113,
      "outputs": [
        {
          "output_type": "stream",
          "text": [
            "ACCURACY OF PREDICTION WITH REGULARIZATION\n",
            " \n",
            "18.55689437129676\n"
          ],
          "name": "stdout"
        }
      ]
    },
    {
      "cell_type": "code",
      "metadata": {
        "id": "QhNetIJjPg1i",
        "colab_type": "code",
        "colab": {
          "base_uri": "https://localhost:8080/",
          "height": 282
        },
        "outputId": "6228712b-3fc3-418c-ff19-04ceb9d1cc63"
      },
      "source": [
        "plt.plot(lambd,error, color='red',label=\"Predicted data\",marker='p')\n",
        "plt.legend()"
      ],
      "execution_count": 114,
      "outputs": [
        {
          "output_type": "execute_result",
          "data": {
            "text/plain": [
              "<matplotlib.legend.Legend at 0x7fdb20d2f160>"
            ]
          },
          "metadata": {
            "tags": []
          },
          "execution_count": 114
        },
        {
          "output_type": "display_data",
          "data": {
            "image/png": "[encoded data removed]",
            "text/plain": [
              "<Figure size 432x288 with 1 Axes>"
            ]
          },
          "metadata": {
            "tags": [],
            "needs_background": "light"
          }
        }
      ]
    }
  ]
}