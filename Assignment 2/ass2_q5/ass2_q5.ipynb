{
  "nbformat": 4,
  "nbformat_minor": 0,
  "metadata": {
    "colab": {
      "name": "IIT2018146_ASS3_Q5",
      "provenance": [],
      "collapsed_sections": []
    },
    "kernelspec": {
      "name": "python3",
      "display_name": "Python 3"
    }
  },
  "cells": [
    {
      "cell_type": "code",
      "metadata": {
        "id": "1H0KLqOgBUhR",
        "colab_type": "code",
        "colab": {}
      },
      "source": [
        "import numpy as np\n",
        "import csv \n",
        "import matplotlib.pyplot as plt"
      ],
      "execution_count": 24,
      "outputs": []
    },
    {
      "cell_type": "code",
      "metadata": {
        "id": "Qao6SQypBrjG",
        "colab_type": "code",
        "colab": {}
      },
      "source": [
        "filepath='/india_covid19.csv'\n",
        "\n",
        "date=[]\n",
        "newdeath=[]   #y\n",
        "datemap=[]    #x\n",
        "count=0\n",
        "rf=12026\n",
        "with open(filepath, mode ='r') as file:     \n",
        "   csvFile = csv.reader(file) \n",
        "   for lines in csvFile:\n",
        "     if count==0:\n",
        "       count=count+1\n",
        "       continue\n",
        "     if (lines[1]>='2020-05-01') & (lines[1]<='2020-05-31'):\n",
        "       newdeath.append(int(lines[7]))\n",
        "       date.append(lines[1])\n",
        "       datemap.append(int(lines[0])-rf)\n",
        "\n",
        "# print(date)\n",
        "# print(datemap)\n",
        "# print(newdeath)\n",
        "\n"
      ],
      "execution_count": 25,
      "outputs": []
    },
    {
      "cell_type": "code",
      "metadata": {
        "id": "6_YtZ0evz8gL",
        "colab_type": "code",
        "colab": {}
      },
      "source": [
        "#predict the number of  deaths on April 20, 2020 and June 10th , 2020.\n",
        "\n",
        "# 2020-04-20, 2020-06-10\n",
        "query_date=[]\n",
        "query_death=[]\n",
        "query_mapdate=[]\n",
        "with open(filepath, mode ='r') as file:\n",
        "  csvFile = csv.reader(file) \n",
        "  for lines in csvFile:\n",
        "    if (lines[1]=='2020-04-20') | (lines[1]=='2020-06-10'):\n",
        "      query_date.append(lines[1])\n",
        "      query_death.append(int(lines[7]))\n",
        "      query_mapdate.append(int(lines[0])-rf)\n",
        "\n",
        "q_md=np.array(query_mapdate)"
      ],
      "execution_count": 26,
      "outputs": []
    },
    {
      "cell_type": "code",
      "metadata": {
        "id": "Fntp078KTYH_",
        "colab_type": "code",
        "colab": {}
      },
      "source": [
        "m=22    # days used for training the model\n",
        "X=np.array(datemap)\n",
        "X_train=X[0:m]\n",
        "Y=np.array(newdeath)\n",
        "Y_train=Y[0:m]\n",
        "# print(X_train)\n",
        "# print(Y_train)\n",
        "X_test=X[m:]\n",
        "Y_test=Y[m:]\n",
        "darry=np.array(date)\n",
        "X_testdate=darry[m:]\n",
        "# print(X_test)\n",
        "# print(Y_test)"
      ],
      "execution_count": 27,
      "outputs": []
    },
    {
      "cell_type": "code",
      "metadata": {
        "id": "ltF7pgVONxSk",
        "colab_type": "code",
        "colab": {}
      },
      "source": [
        "a=np.sum(X_train)        # SUM OF X\n",
        "b=np.sum(Y_train)        # SUM OF Y\n",
        "# print(a)\n",
        "# print(b)\n",
        "sq=np.square(X_train)    # SUM OF SQUARE OF X_TRAIN\n",
        "c=np.sum(sq)\n",
        "mul=np.multiply(X_train,Y_train)\n",
        "d=np.sum(mul)            # SUM OF X_train * Y_train\n",
        "# print(c)\n",
        "# print(d)\n",
        "cub= np.multiply(X_train,sq)\n",
        "# print(cub)\n",
        "e=np.sum(cub)            # sum of X^3\n",
        "mulxsq=np.multiply(sq,Y_train)\n",
        "f=np.sum(mulxsq)         # sum of X^2 * Y\n",
        "fopow= np.multiply(sq,sq)\n",
        "g=np.sum(fopow)          # sum of X^4\n",
        "# print(e)\n",
        "# print(f)\n",
        "# print(g)"
      ],
      "execution_count": 28,
      "outputs": []
    },
    {
      "cell_type": "markdown",
      "metadata": {
        "id": "1GF4HWPfzrCy",
        "colab_type": "text"
      },
      "source": [
        "**LINEAR REGRESSION**"
      ]
    },
    {
      "cell_type": "code",
      "metadata": {
        "id": "A2aRqw0Za60d",
        "colab_type": "code",
        "colab": {}
      },
      "source": [
        "# linear eqn line  Y=w0 + w1*X\n",
        "# decompose to solve w0 and w1\n",
        "#  m*w0 + a*w1 = b\n",
        "#  a*w0 + c*w1 = d\n",
        "\n",
        "A=np.array([[m,a],[a,c]])\n",
        "B=np.array([b,d])\n",
        "ans = np.linalg.solve(A, B)\n",
        "# print(ans)\n",
        "\n",
        "w0=ans[0]\n",
        "w1=ans[1]"
      ],
      "execution_count": 29,
      "outputs": []
    },
    {
      "cell_type": "code",
      "metadata": {
        "id": "Y_SawYaoeBhd",
        "colab_type": "code",
        "colab": {
          "base_uri": "https://localhost:8080/",
          "height": 204
        },
        "outputId": "9aa60b7d-864c-4b7b-f5e9-6b5fb10beb3e"
      },
      "source": [
        "Y_linearpred=[]\n",
        "Y_linearpred=w1*X_test + w0\n",
        "print(\"Test Dates   |    Actual Deaths |     Predicted Deaths\")\n",
        "print(\" \")\n",
        "for i in range(len(Y_test)):\n",
        "  print(X_testdate[i],\"          \",Y_test[i],\"          \",Y_linearpred[i])"
      ],
      "execution_count": 30,
      "outputs": [
        {
          "output_type": "stream",
          "text": [
            "Test Dates   |    Actual Deaths |     Predicted Deaths\n",
            " \n",
            "2020-05-23            137            142.25974025974074\n",
            "2020-05-24            147            144.71315640880908\n",
            "2020-05-25            154            147.16657255787743\n",
            "2020-05-26            146            149.61998870694583\n",
            "2020-05-27            170            152.07340485601418\n",
            "2020-05-28            194            154.52682100508252\n",
            "2020-05-29            175            156.98023715415093\n",
            "2020-05-30            265            159.43365330321927\n",
            "2020-05-31            193            161.88706945228768\n"
          ],
          "name": "stdout"
        }
      ]
    },
    {
      "cell_type": "code",
      "metadata": {
        "id": "gygLPp825Ffy",
        "colab_type": "code",
        "colab": {
          "base_uri": "https://localhost:8080/",
          "height": 331
        },
        "outputId": "e6bf55bd-5f58-410c-d4b1-80478eb7000b"
      },
      "source": [
        "plt.xticks(rotation=80)\n",
        "plt.scatter(X_testdate, Y_test,  color='gray',label=\"Actual data\",marker='o')\n",
        "plt.legend()\n",
        "plt.scatter(X_testdate, Y_linearpred, color='red',label=\"Predicted data\",marker='p')\n",
        "plt.legend()"
      ],
      "execution_count": 31,
      "outputs": [
        {
          "output_type": "execute_result",
          "data": {
            "text/plain": [
              "<matplotlib.legend.Legend at 0x7f2c4a414780>"
            ]
          },
          "metadata": {
            "tags": []
          },
          "execution_count": 31
        },
        {
          "output_type": "display_data",
          "data": {
            "image/png": "[encoded data removed]",
            "text/plain": [
              "<Figure size 432x288 with 1 Axes>"
            ]
          },
          "metadata": {
            "tags": [],
            "needs_background": "light"
          }
        }
      ]
    },
    {
      "cell_type": "markdown",
      "metadata": {
        "id": "rBl_bMwuTyad",
        "colab_type": "text"
      },
      "source": [
        "Accuracy of prediction"
      ]
    },
    {
      "cell_type": "code",
      "metadata": {
        "id": "-PPynuLYTjAj",
        "colab_type": "code",
        "colab": {
          "base_uri": "https://localhost:8080/",
          "height": 68
        },
        "outputId": "324ac8b0-75d0-446d-8caf-d2a8a5e8a33b"
      },
      "source": [
        "error_diff=np.subtract(Y_test,Y_linearpred)\n",
        "abserror_diff=np.absolute(error_diff)\n",
        "absolute_error=np.sum(error_diff)\n",
        "mean_ab_error=absolute_error/9\n",
        "print(\"ACCURACY OF PREDICTION\")\n",
        "print(\" \")\n",
        "print(mean_ab_error)"
      ],
      "execution_count": 32,
      "outputs": [
        {
          "output_type": "stream",
          "text": [
            "ACCURACY OF PREDICTION\n",
            " \n",
            "23.593261810652482\n"
          ],
          "name": "stdout"
        }
      ]
    },
    {
      "cell_type": "markdown",
      "metadata": {
        "id": "hy_CGqVwhoUo",
        "colab_type": "text"
      },
      "source": [
        "Predict the number of  deaths on April 20, 2020 and June 10th , 2020 using linear regression\n"
      ]
    },
    {
      "cell_type": "code",
      "metadata": {
        "id": "bv1t9UPFhxfB",
        "colab_type": "code",
        "colab": {
          "base_uri": "https://localhost:8080/",
          "height": 85
        },
        "outputId": "96d6bc31-c6c6-4f6a-c651-7dbb9ba17bdd"
      },
      "source": [
        "query_lineardeathpred=[]\n",
        "query_lineardeathpred=w1*q_md + w0\n",
        "print(\"Test Dates   |    Actual Deaths |     Predicted Deaths\")\n",
        "print(\" \")\n",
        "for i in range(len(query_date)):\n",
        "  print(query_date[i],\"          \",query_death[i],\"          \",query_lineardeathpred[i])\n",
        "\n"
      ],
      "execution_count": 33,
      "outputs": [
        {
          "output_type": "stream",
          "text": [
            "Test Dates   |    Actual Deaths |     Predicted Deaths\n",
            " \n",
            "2020-04-20            36            61.29700734048464\n",
            "2020-06-10            279            186.4212309429713\n"
          ],
          "name": "stdout"
        }
      ]
    },
    {
      "cell_type": "markdown",
      "metadata": {
        "id": "9iLiw7Q-uGLx",
        "colab_type": "text"
      },
      "source": [
        "**QUADRATIC EQN**\n"
      ]
    },
    {
      "cell_type": "code",
      "metadata": {
        "id": "PeNJ4ViFwoMo",
        "colab_type": "code",
        "colab": {}
      },
      "source": [
        "# linear eqn line  Y=w0 + w1*X + w2*X^2\n",
        "# decompose to solve w0 and w1 and w2\n",
        "#  m*w0 + aa*w1 + cc*w2 = bb\n",
        "#  aa*w0 + cc*w1 + e*w2 = dd\n",
        "#  cc*w0 + e*w1 + g*w2 = f\n",
        "\n",
        "A=np.array([[m,a,c],[a,c,e],[c,e,g]])\n",
        "B=np.array([b,d,f])\n",
        "ans = np.linalg.solve(A, B)\n",
        "# print(ans)\n",
        "\n",
        "w0=ans[0]\n",
        "w1=ans[1]\n",
        "w2=ans[2]"
      ],
      "execution_count": 34,
      "outputs": []
    },
    {
      "cell_type": "code",
      "metadata": {
        "id": "-gAbeUubz3_1",
        "colab_type": "code",
        "colab": {
          "base_uri": "https://localhost:8080/",
          "height": 204
        },
        "outputId": "e280c8b7-5342-4581-9d42-b0e7cd9a1bc0"
      },
      "source": [
        "Y_quadraticpred=[]\n",
        "X_testsq=np.square(X_test)\n",
        "Y_quadraticpred=w1*X_test + w0 + w2*X_test*X_test\n",
        "print(\"Test Dates   |    Actual Deaths |     Predicted Deaths\")\n",
        "print(\" \")\n",
        "for i in range(len(Y_test)):\n",
        "  print(X_testdate[i],\"          \",Y_test[i],\"          \",Y_quadraticpred[i])\n",
        "\n"
      ],
      "execution_count": 35,
      "outputs": [
        {
          "output_type": "stream",
          "text": [
            "Test Dates   |    Actual Deaths |     Predicted Deaths\n",
            " \n",
            "2020-05-23            137            142.6688311688479\n",
            "2020-05-24            147            145.2289666855096\n",
            "2020-05-25            154            147.79799548280408\n",
            "2020-05-26            146            150.37591756073132\n",
            "2020-05-27            170            152.96273291929134\n",
            "2020-05-28            194            155.55844155848422\n",
            "2020-05-29            175            158.16304347830982\n",
            "2020-05-30            265            160.7765386787682\n",
            "2020-05-31            193            163.3989271598594\n"
          ],
          "name": "stdout"
        }
      ]
    },
    {
      "cell_type": "code",
      "metadata": {
        "id": "mgHyGwRf7ZjS",
        "colab_type": "code",
        "colab": {
          "base_uri": "https://localhost:8080/",
          "height": 331
        },
        "outputId": "4231cd74-e265-4932-8cb5-f68fa285afc1"
      },
      "source": [
        "plt.xticks(rotation=80)\n",
        "plt.scatter(X_testdate, Y_test,  color='gray',label=\"Actual data\",marker='o')\n",
        "plt.legend()\n",
        "plt.scatter(X_testdate, Y_quadraticpred, color='red',label=\"Predicted data\",marker='p')\n",
        "plt.legend()"
      ],
      "execution_count": 36,
      "outputs": [
        {
          "output_type": "execute_result",
          "data": {
            "text/plain": [
              "<matplotlib.legend.Legend at 0x7f2c4a395320>"
            ]
          },
          "metadata": {
            "tags": []
          },
          "execution_count": 36
        },
        {
          "output_type": "display_data",
          "data": {
            "image/png": "[encoded data removed]",
            "text/plain": [
              "<Figure size 432x288 with 1 Axes>"
            ]
          },
          "metadata": {
            "tags": [],
            "needs_background": "light"
          }
        }
      ]
    },
    {
      "cell_type": "markdown",
      "metadata": {
        "id": "W755QiqnW6HX",
        "colab_type": "text"
      },
      "source": [
        "Accuracy of Prediction"
      ]
    },
    {
      "cell_type": "code",
      "metadata": {
        "id": "-1hUYM-sWwRa",
        "colab_type": "code",
        "colab": {
          "base_uri": "https://localhost:8080/",
          "height": 68
        },
        "outputId": "2c9ae1b0-5f18-438f-e581-3a140718b2ed"
      },
      "source": [
        "error_diff=np.subtract(Y_test,Y_quadraticpred)\n",
        "abserror_diff=np.absolute(error_diff)\n",
        "absolute_error=np.sum(error_diff)\n",
        "mean_ab_error=absolute_error/9\n",
        "print(\"ACCURACY OF PREDICTION\")\n",
        "print(\" \")\n",
        "print(mean_ab_error)"
      ],
      "execution_count": 37,
      "outputs": [
        {
          "output_type": "stream",
          "text": [
            "ACCURACY OF PREDICTION\n",
            " \n",
            "22.67428947859935\n"
          ],
          "name": "stdout"
        }
      ]
    },
    {
      "cell_type": "markdown",
      "metadata": {
        "id": "1QBP6wwI25or",
        "colab_type": "text"
      },
      "source": [
        "Predict the number of deaths on April 20, 2020 and June 10th , 2020 using quadratic regression"
      ]
    },
    {
      "cell_type": "code",
      "metadata": {
        "id": "mx5hbcYn18I-",
        "colab_type": "code",
        "colab": {
          "base_uri": "https://localhost:8080/",
          "height": 85
        },
        "outputId": "d58f58d1-9a52-4814-8a6b-157ff15c2220"
      },
      "source": [
        "query_quaddeathpred=[]\n",
        "query_quaddeathpred=w2*q_md*q_md + w1*q_md + w0\n",
        "print(\"Test Dates   |    Actual Deaths |     Predicted Deaths\")\n",
        "print(\" \")\n",
        "for i in range(len(query_date)):\n",
        "  print(query_date[i],\"          \",query_death[i],\"          \",query_quaddeathpred[i])\n",
        "# print(query_quaddeathpred)\n",
        "# print(query_death)"
      ],
      "execution_count": 38,
      "outputs": [
        {
          "output_type": "stream",
          "text": [
            "Test Dates   |    Actual Deaths |     Predicted Deaths\n",
            " \n",
            "2020-04-20            36            63.173489554003666\n",
            "2020-06-10            279            190.11194240557427\n"
          ],
          "name": "stdout"
        }
      ]
    }
  ]
}