{
  "nbformat": 4,
  "nbformat_minor": 0,
  "metadata": {
    "colab": {
      "name": "iit2018146_ass7.ipynb",
      "provenance": []
    },
    "kernelspec": {
      "name": "python3",
      "display_name": "Python 3"
    }
  },
  "cells": [
    {
      "cell_type": "code",
      "metadata": {
        "id": "lnT3yC7B1Rcd"
      },
      "source": [
        "import math\n",
        "import numpy as np"
      ],
      "execution_count": 286,
      "outputs": []
    },
    {
      "cell_type": "markdown",
      "metadata": {
        "id": "0Yi510sz6GJq"
      },
      "source": [
        "**Training**"
      ]
    },
    {
      "cell_type": "code",
      "metadata": {
        "id": "AspE4FNK19M1"
      },
      "source": [
        "def Train(percep_logic_gate,w0,w1,w2,w00,w11,w22):\n",
        "  train_data = [[1, 0, 0], [1, 0, 1], [1, 1, 0], [1, 1, 1]]\n",
        "  train_data = np.array(train_data)\n",
        "  alpha = 0.2\n",
        "  iteration = 100\n",
        "  for i in range(iteration):\n",
        "      j = 0\n",
        "      for x in train_data:\n",
        "          res = w0*x[0] + w1*x[1] + w2*x[2]\n",
        "\n",
        "          if (res >= 0):\n",
        "              act = 1\n",
        "          else:\n",
        "              act = 0\n",
        "          err = percep_logic_gate[j] - act\n",
        "\n",
        "          w00 = alpha*x[0]*err\n",
        "          w11 = alpha*x[1]*err\n",
        "          w22 = alpha*x[2]*err\n",
        "\n",
        "          w0 = w0 + w00\n",
        "          w1 = w1 + w11\n",
        "          w2 = w2 + w22\n",
        "\n",
        "          j = j + 1\n",
        "\n",
        "  print(\"\\nFinal weights : \")\n",
        "  print(\"Threshold = \",w0)\n",
        "  print(\"w1        = \",w1)\n",
        "  print(\"w2        = \",w2)\n",
        "  print(\"\\n\")\n",
        "  return w0,w1,w2"
      ],
      "execution_count": 287,
      "outputs": []
    },
    {
      "cell_type": "markdown",
      "metadata": {
        "id": "xc0GiV1D6uo7"
      },
      "source": [
        "**Test and Testing**"
      ]
    },
    {
      "cell_type": "code",
      "metadata": {
        "id": "Sy7_L32k2CFd"
      },
      "source": [
        "def Testing(test_logic_gate,w0,w1,w2):\n",
        "\n",
        "  test_data = [[0.98, 1],[0.01, 0.97],[0.77, 0.99],[0.912, 1.002],[0.88, 0.11],[0.82, 0.9],[0.8, 1],[0.02, 0.01],[0.21, 0.99],[0.11, 0.2],[0.79, 1],[0.11, 1.02],[0.98, 0.87],[0.2, 1.3],[0.2, 0.003]]\n",
        "  total = 15\n",
        "  correct = 0\n",
        "  for i in range(len(test_data)):\n",
        "      temp = w0 + w1*test_data[i][0] + w2*test_data[i][1]\n",
        "    \n",
        "      if ( temp >= 0 ):\n",
        "          pre = 1\n",
        "      else:\n",
        "          pre = 0\n",
        "      print(\"x1 = \",test_data[i][0],\"x2 = \",test_data[i][1])\n",
        "      print(\"Predicted - \",pre,\",Actual - \",test_logic_gate[i])\n",
        "      print(\"\\n\")\n",
        "\n",
        "      if ( pre == test_logic_gate[i] ):\n",
        "          correct = correct + 1\n",
        "\n",
        "  print ( \"\\nAccuracy - \", correct*100/total)"
      ],
      "execution_count": 288,
      "outputs": []
    },
    {
      "cell_type": "markdown",
      "metadata": {
        "id": "QX5BrBsIDS-3"
      },
      "source": [
        "**AND LOGIC GATE**"
      ]
    },
    {
      "cell_type": "code",
      "metadata": {
        "id": "8dhSjIlV_GPx"
      },
      "source": [
        "def and_logic_gate():\n",
        "  w0 = np.random.randn()\n",
        "  w1 = np.random.randn()\n",
        "  w2 = np.random.randn()\n",
        "\n",
        "  print(\"\\nInitial weights :  \")\n",
        "  print(\"Threshold = \",w0)\n",
        "  print(\"w1        = \",w1)\n",
        "  print(\"w2        = \",w2)\n",
        "\n",
        "  w00 = 1\n",
        "  w11 = 1\n",
        "  w22 = 1\n",
        "\n",
        "  percep_and = [0, 0, 0, 1] # AND\n",
        "  percep_and = np.array(percep_and)\n",
        "  w0,w1,w2=Train(percep_and,w0,w1,w2,w00,w11,w22)\n",
        "\n",
        "  test_and = [1, 0, 1, 1, 0, 1, 1, 0, 0, 0, 1, 0, 1, 0, 0] # AND\n",
        "\n",
        "  Testing(test_and,w0,w1,w2)"
      ],
      "execution_count": 289,
      "outputs": []
    },
    {
      "cell_type": "code",
      "metadata": {
        "id": "JR5xyz2pENvV",
        "outputId": "77822bde-a3be-449c-b472-b09a0ab8fa1d",
        "colab": {
          "base_uri": "https://localhost:8080/",
          "height": 1000
        }
      },
      "source": [
        "and_logic_gate()"
      ],
      "execution_count": 290,
      "outputs": [
        {
          "output_type": "stream",
          "text": [
            "\n",
            "Initial weights :  \n",
            "Threshold =  1.4382525213326935\n",
            "w1        =  -0.8218622406348077\n",
            "w2        =  1.099971913395241\n",
            "\n",
            "Final weights : \n",
            "Threshold =  -0.5617474786673063\n",
            "w1        =  0.3781377593651923\n",
            "w2        =  0.2999719133952411\n",
            "\n",
            "\n",
            "x1 =  0.98 x2 =  1\n",
            "Predicted -  1 ,Actual -  1\n",
            "\n",
            "\n",
            "x1 =  0.01 x2 =  0.97\n",
            "Predicted -  0 ,Actual -  0\n",
            "\n",
            "\n",
            "x1 =  0.77 x2 =  0.99\n",
            "Predicted -  1 ,Actual -  1\n",
            "\n",
            "\n",
            "x1 =  0.912 x2 =  1.002\n",
            "Predicted -  1 ,Actual -  1\n",
            "\n",
            "\n",
            "x1 =  0.88 x2 =  0.11\n",
            "Predicted -  0 ,Actual -  0\n",
            "\n",
            "\n",
            "x1 =  0.82 x2 =  0.9\n",
            "Predicted -  1 ,Actual -  1\n",
            "\n",
            "\n",
            "x1 =  0.8 x2 =  1\n",
            "Predicted -  1 ,Actual -  1\n",
            "\n",
            "\n",
            "x1 =  0.02 x2 =  0.01\n",
            "Predicted -  0 ,Actual -  0\n",
            "\n",
            "\n",
            "x1 =  0.21 x2 =  0.99\n",
            "Predicted -  0 ,Actual -  0\n",
            "\n",
            "\n",
            "x1 =  0.11 x2 =  0.2\n",
            "Predicted -  0 ,Actual -  0\n",
            "\n",
            "\n",
            "x1 =  0.79 x2 =  1\n",
            "Predicted -  1 ,Actual -  1\n",
            "\n",
            "\n",
            "x1 =  0.11 x2 =  1.02\n",
            "Predicted -  0 ,Actual -  0\n",
            "\n",
            "\n",
            "x1 =  0.98 x2 =  0.87\n",
            "Predicted -  1 ,Actual -  1\n",
            "\n",
            "\n",
            "x1 =  0.2 x2 =  1.3\n",
            "Predicted -  0 ,Actual -  0\n",
            "\n",
            "\n",
            "x1 =  0.2 x2 =  0.003\n",
            "Predicted -  0 ,Actual -  0\n",
            "\n",
            "\n",
            "\n",
            "Accuracy -  100.0\n"
          ],
          "name": "stdout"
        }
      ]
    },
    {
      "cell_type": "markdown",
      "metadata": {
        "id": "EcYgLB4IDWd7"
      },
      "source": [
        "**OR LOGIC GATE**"
      ]
    },
    {
      "cell_type": "code",
      "metadata": {
        "id": "yhdfHYISAByA"
      },
      "source": [
        "def or_logic_gate():\n",
        "  w0 = np.random.randn()\n",
        "  w1 = np.random.randn()\n",
        "  w2 = np.random.randn()\n",
        "\n",
        "  print(\"\\nInitial weights : \")\n",
        "  print(\"Threshold = \",w0)\n",
        "  print(\"w1        = \",w1)\n",
        "  print(\"w2        = \",w2)\n",
        "\n",
        "  w00 = 1\n",
        "  w11 = 1\n",
        "  w22 = 1\n",
        "\n",
        "  percep_or = [0, 1, 1, 1] # OR\n",
        "  percep_or = np.array(percep_or)\n",
        "  w0,w1,w2=Train(percep_or,w0,w1,w2,w00,w11,w22)\n",
        "\n",
        "  test_or =[1, 1, 1, 1, 1, 1, 1, 0, 1, 0, 1, 1, 1, 1, 0] # OR\n",
        "\n",
        "  Testing(test_or,w0,w1,w2)"
      ],
      "execution_count": 291,
      "outputs": []
    },
    {
      "cell_type": "code",
      "metadata": {
        "id": "BO_8naXKEHML",
        "outputId": "4730bb78-a337-443a-cf77-b5a07557bb7c",
        "colab": {
          "base_uri": "https://localhost:8080/",
          "height": 1000
        }
      },
      "source": [
        "or_logic_gate()"
      ],
      "execution_count": 292,
      "outputs": [
        {
          "output_type": "stream",
          "text": [
            "\n",
            "Initial weights : \n",
            "Threshold =  0.5415749648849573\n",
            "w1        =  -1.1153939388055583\n",
            "w2        =  -0.015326678235113838\n",
            "\n",
            "Final weights : \n",
            "Threshold =  -0.05842503511504277\n",
            "w1        =  0.08460606119444164\n",
            "w2        =  0.18467332176488618\n",
            "\n",
            "\n",
            "x1 =  0.98 x2 =  1\n",
            "Predicted -  1 ,Actual -  1\n",
            "\n",
            "\n",
            "x1 =  0.01 x2 =  0.97\n",
            "Predicted -  1 ,Actual -  1\n",
            "\n",
            "\n",
            "x1 =  0.77 x2 =  0.99\n",
            "Predicted -  1 ,Actual -  1\n",
            "\n",
            "\n",
            "x1 =  0.912 x2 =  1.002\n",
            "Predicted -  1 ,Actual -  1\n",
            "\n",
            "\n",
            "x1 =  0.88 x2 =  0.11\n",
            "Predicted -  1 ,Actual -  1\n",
            "\n",
            "\n",
            "x1 =  0.82 x2 =  0.9\n",
            "Predicted -  1 ,Actual -  1\n",
            "\n",
            "\n",
            "x1 =  0.8 x2 =  1\n",
            "Predicted -  1 ,Actual -  1\n",
            "\n",
            "\n",
            "x1 =  0.02 x2 =  0.01\n",
            "Predicted -  0 ,Actual -  0\n",
            "\n",
            "\n",
            "x1 =  0.21 x2 =  0.99\n",
            "Predicted -  1 ,Actual -  1\n",
            "\n",
            "\n",
            "x1 =  0.11 x2 =  0.2\n",
            "Predicted -  0 ,Actual -  0\n",
            "\n",
            "\n",
            "x1 =  0.79 x2 =  1\n",
            "Predicted -  1 ,Actual -  1\n",
            "\n",
            "\n",
            "x1 =  0.11 x2 =  1.02\n",
            "Predicted -  1 ,Actual -  1\n",
            "\n",
            "\n",
            "x1 =  0.98 x2 =  0.87\n",
            "Predicted -  1 ,Actual -  1\n",
            "\n",
            "\n",
            "x1 =  0.2 x2 =  1.3\n",
            "Predicted -  1 ,Actual -  1\n",
            "\n",
            "\n",
            "x1 =  0.2 x2 =  0.003\n",
            "Predicted -  0 ,Actual -  0\n",
            "\n",
            "\n",
            "\n",
            "Accuracy -  100.0\n"
          ],
          "name": "stdout"
        }
      ]
    },
    {
      "cell_type": "markdown",
      "metadata": {
        "id": "AHosLcGODZSR"
      },
      "source": [
        "**NOR LOGIC GATE**"
      ]
    },
    {
      "cell_type": "code",
      "metadata": {
        "id": "Tbh4G-VqAXhB"
      },
      "source": [
        "def nor_logic_gate():\n",
        "  w0 = np.random.randn()\n",
        "  w1 = np.random.randn()\n",
        "  w2 = np.random.randn()\n",
        "\n",
        "  print(\"\\nInitial weights : \")\n",
        "  print(\"Threshold = \",w0)\n",
        "  print(\"w1        = \",w1)\n",
        "  print(\"w2        = \",w2)\n",
        "\n",
        "  w00 = 1\n",
        "  w11 = 1\n",
        "  w22 = 1\n",
        "\n",
        "  percep_nor = [1, 0, 0, 0] # NOR\n",
        "  percep_nor = np.array(percep_nor)\n",
        "  w0,w1,w2=Train(percep_nor,w0,w1,w2,w00,w11,w22)\n",
        "\n",
        "  test_nor =[0, 0, 0, 0, 0, 0, 0, 1, 0, 1, 0, 0, 0, 0, 1] # NOR\n",
        "\n",
        "  Testing(test_nor,w0,w1,w2)"
      ],
      "execution_count": 293,
      "outputs": []
    },
    {
      "cell_type": "code",
      "metadata": {
        "id": "a14IESwpEJaR",
        "outputId": "def3eb63-7d48-4b88-97b3-ebb722aa5fe0",
        "colab": {
          "base_uri": "https://localhost:8080/",
          "height": 1000
        }
      },
      "source": [
        "nor_logic_gate()"
      ],
      "execution_count": 294,
      "outputs": [
        {
          "output_type": "stream",
          "text": [
            "\n",
            "Initial weights : \n",
            "Threshold =  -0.4075500440213532\n",
            "w1        =  0.1662558608272596\n",
            "w2        =  1.3752417953566871\n",
            "\n",
            "Final weights : \n",
            "Threshold =  0.19244995597864678\n",
            "w1        =  -0.23374413917274042\n",
            "w2        =  -0.22475820464331275\n",
            "\n",
            "\n",
            "x1 =  0.98 x2 =  1\n",
            "Predicted -  0 ,Actual -  0\n",
            "\n",
            "\n",
            "x1 =  0.01 x2 =  0.97\n",
            "Predicted -  0 ,Actual -  0\n",
            "\n",
            "\n",
            "x1 =  0.77 x2 =  0.99\n",
            "Predicted -  0 ,Actual -  0\n",
            "\n",
            "\n",
            "x1 =  0.912 x2 =  1.002\n",
            "Predicted -  0 ,Actual -  0\n",
            "\n",
            "\n",
            "x1 =  0.88 x2 =  0.11\n",
            "Predicted -  0 ,Actual -  0\n",
            "\n",
            "\n",
            "x1 =  0.82 x2 =  0.9\n",
            "Predicted -  0 ,Actual -  0\n",
            "\n",
            "\n",
            "x1 =  0.8 x2 =  1\n",
            "Predicted -  0 ,Actual -  0\n",
            "\n",
            "\n",
            "x1 =  0.02 x2 =  0.01\n",
            "Predicted -  1 ,Actual -  1\n",
            "\n",
            "\n",
            "x1 =  0.21 x2 =  0.99\n",
            "Predicted -  0 ,Actual -  0\n",
            "\n",
            "\n",
            "x1 =  0.11 x2 =  0.2\n",
            "Predicted -  1 ,Actual -  1\n",
            "\n",
            "\n",
            "x1 =  0.79 x2 =  1\n",
            "Predicted -  0 ,Actual -  0\n",
            "\n",
            "\n",
            "x1 =  0.11 x2 =  1.02\n",
            "Predicted -  0 ,Actual -  0\n",
            "\n",
            "\n",
            "x1 =  0.98 x2 =  0.87\n",
            "Predicted -  0 ,Actual -  0\n",
            "\n",
            "\n",
            "x1 =  0.2 x2 =  1.3\n",
            "Predicted -  0 ,Actual -  0\n",
            "\n",
            "\n",
            "x1 =  0.2 x2 =  0.003\n",
            "Predicted -  1 ,Actual -  1\n",
            "\n",
            "\n",
            "\n",
            "Accuracy -  100.0\n"
          ],
          "name": "stdout"
        }
      ]
    },
    {
      "cell_type": "markdown",
      "metadata": {
        "id": "yyNnLB_mDcdc"
      },
      "source": [
        "**NAND LOGIC GATE**"
      ]
    },
    {
      "cell_type": "code",
      "metadata": {
        "id": "A7--ByzeAzq0"
      },
      "source": [
        "def nand_logic_gate():\n",
        "  w0 = np.random.randn()\n",
        "  w1 = np.random.randn()\n",
        "  w2 = np.random.randn()\n",
        "\n",
        "  print(\"\\nInitial weights : \")\n",
        "  print(\"Threshold = \",w0)\n",
        "  print(\"w1        = \",w1)\n",
        "  print(\"w2        = \",w2)\n",
        "\n",
        "  w00 = 1\n",
        "  w11 = 1\n",
        "  w22 = 1\n",
        "\n",
        "  percep_nand = [1, 1, 1, 0] # NAND\n",
        "  percep_nand = np.array(percep_nand)\n",
        "  w0,w1,w2=Train(percep_nand,w0,w1,w2,w00,w11,w22)\n",
        "\n",
        "  test_nand =[0, 1, 0, 0, 1, 0, 0, 1, 1, 1, 0, 1, 0, 1, 1] # NAND\n",
        "\n",
        "  Testing(test_nand,w0,w1,w2)"
      ],
      "execution_count": 295,
      "outputs": []
    },
    {
      "cell_type": "code",
      "metadata": {
        "id": "gJvDAEL0ELkN",
        "outputId": "54df928f-9619-4dc7-cccc-b4d2de2b85f2",
        "colab": {
          "base_uri": "https://localhost:8080/",
          "height": 1000
        }
      },
      "source": [
        "nand_logic_gate()"
      ],
      "execution_count": 296,
      "outputs": [
        {
          "output_type": "stream",
          "text": [
            "\n",
            "Initial weights : \n",
            "Threshold =  -0.2029336170553257\n",
            "w1        =  1.2664389611261095\n",
            "w2        =  -1.0116263589495367\n",
            "\n",
            "Final weights : \n",
            "Threshold =  0.7970663829446742\n",
            "w1        =  -0.5335610388738904\n",
            "w2        =  -0.41162635894953675\n",
            "\n",
            "\n",
            "x1 =  0.98 x2 =  1\n",
            "Predicted -  0 ,Actual -  0\n",
            "\n",
            "\n",
            "x1 =  0.01 x2 =  0.97\n",
            "Predicted -  1 ,Actual -  1\n",
            "\n",
            "\n",
            "x1 =  0.77 x2 =  0.99\n",
            "Predicted -  0 ,Actual -  0\n",
            "\n",
            "\n",
            "x1 =  0.912 x2 =  1.002\n",
            "Predicted -  0 ,Actual -  0\n",
            "\n",
            "\n",
            "x1 =  0.88 x2 =  0.11\n",
            "Predicted -  1 ,Actual -  1\n",
            "\n",
            "\n",
            "x1 =  0.82 x2 =  0.9\n",
            "Predicted -  0 ,Actual -  0\n",
            "\n",
            "\n",
            "x1 =  0.8 x2 =  1\n",
            "Predicted -  0 ,Actual -  0\n",
            "\n",
            "\n",
            "x1 =  0.02 x2 =  0.01\n",
            "Predicted -  1 ,Actual -  1\n",
            "\n",
            "\n",
            "x1 =  0.21 x2 =  0.99\n",
            "Predicted -  1 ,Actual -  1\n",
            "\n",
            "\n",
            "x1 =  0.11 x2 =  0.2\n",
            "Predicted -  1 ,Actual -  1\n",
            "\n",
            "\n",
            "x1 =  0.79 x2 =  1\n",
            "Predicted -  0 ,Actual -  0\n",
            "\n",
            "\n",
            "x1 =  0.11 x2 =  1.02\n",
            "Predicted -  1 ,Actual -  1\n",
            "\n",
            "\n",
            "x1 =  0.98 x2 =  0.87\n",
            "Predicted -  0 ,Actual -  0\n",
            "\n",
            "\n",
            "x1 =  0.2 x2 =  1.3\n",
            "Predicted -  1 ,Actual -  1\n",
            "\n",
            "\n",
            "x1 =  0.2 x2 =  0.003\n",
            "Predicted -  1 ,Actual -  1\n",
            "\n",
            "\n",
            "\n",
            "Accuracy -  100.0\n"
          ],
          "name": "stdout"
        }
      ]
    }
  ]
}