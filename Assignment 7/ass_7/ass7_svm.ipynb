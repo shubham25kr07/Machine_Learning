{
  "nbformat": 4,
  "nbformat_minor": 0,
  "metadata": {
    "colab": {
      "name": "IIT2018146_ass7_svm.ipynb",
      "provenance": []
    },
    "kernelspec": {
      "name": "python3",
      "display_name": "Python 3"
    }
  },
  "cells": [
    {
      "cell_type": "code",
      "metadata": {
        "id": "fDpsrOwy93ni"
      },
      "source": [
        "import numpy as np\n",
        "import pandas as pd\n",
        "import math\n",
        "import copy\n",
        "import random\n",
        "import matplotlib.pyplot as plt "
      ],
      "execution_count": 140,
      "outputs": []
    },
    {
      "cell_type": "code",
      "metadata": {
        "id": "pMsqRH7X98l2"
      },
      "source": [
        "filepath=\"/heart_dis.csv\""
      ],
      "execution_count": 141,
      "outputs": []
    },
    {
      "cell_type": "code",
      "metadata": {
        "id": "5Aia3eU0RSYD"
      },
      "source": [
        "def data_extract(filename):\n",
        "  data=pd.read_csv(\"/heart_dis.csv\")\n",
        "  X = np.array(data[[\"Age\",\"trestbps\"]])\n",
        "  Y = np.array(data[\"label\"])\n",
        "\n",
        "  # labelling\n",
        "  for i in range(len(Y)):\n",
        "    if Y[i]==0:\n",
        "      Y[i]=-1\n",
        "\n",
        "    # Normalization\n",
        "  mea = np.mean(X,axis = 0)\n",
        "  stde = np.std(X,axis = 0)\n",
        "  X = (X-mea)/stde\n",
        "  return X,Y\n"
      ],
      "execution_count": 142,
      "outputs": []
    },
    {
      "cell_type": "code",
      "metadata": {
        "id": "mg6Rj3wCsUy9"
      },
      "source": [
        "X,Y=data_extract(filepath)\n",
        "# print(X)\n",
        "# print(Y)"
      ],
      "execution_count": 143,
      "outputs": []
    },
    {
      "cell_type": "code",
      "metadata": {
        "id": "lpBhBnaAYaJ9"
      },
      "source": [
        "def Training_Testing_data_extract(X,Y):\n",
        "  n = X.shape[0]\n",
        "  m=int(n*0.75)\n",
        "\n",
        "  X_train=X[:m,:]\n",
        "  Y_train=Y[:m]\n",
        "\n",
        "  X_test=X[m:,:]\n",
        "\n",
        "  Y_test=Y[m:]\n",
        "  return X_train,Y_train,X_test,Y_test"
      ],
      "execution_count": 144,
      "outputs": []
    },
    {
      "cell_type": "code",
      "metadata": {
        "id": "6hzuD1iEsSA6"
      },
      "source": [
        "X_train,Y_train,X_test,Y_test=Training_Testing_data_extract(X,Y)\n",
        "# print(Y_train)\n",
        "# print(Y_test)"
      ],
      "execution_count": 145,
      "outputs": []
    },
    {
      "cell_type": "markdown",
      "metadata": {
        "id": "fPzpJjxTroL1"
      },
      "source": [
        "**SMO**"
      ]
    },
    {
      "cell_type": "code",
      "metadata": {
        "id": "8ehG0BB8dH7p"
      },
      "source": [
        "def gaussian_kernel(x1,x2,sigma=0.5):\n",
        "\n",
        "\tres = np.exp(-np.sum(abs(np.square(x1-x2))/(2*(sigma**2))))\n",
        "\treturn res\n",
        "\n",
        "def predict(X,Y,alpha,b,x,sigma):\n",
        "  \n",
        "\tresult=0.0\n",
        "\tfor i in range(X.shape[0]):\n",
        "\t\tresult+=(alpha[i]*Y[i]*gaussian_kernel(X[i,:] , x,sigma));\n",
        "\n",
        "\tresult+=b\n",
        "\n",
        "\treturn result\n",
        "\n",
        "def SMO(X,Y,C,tol,max_passes,sigma):\n",
        "\talpha=np.zeros(shape=(X.shape[0],1));\n",
        "\tb=0.0\n",
        "\tm, n = X.shape\n",
        "\tpasses=0\n",
        "\n",
        "\tE=np.zeros(shape=(X.shape[0],1))\n",
        "\talpha_old=copy.deepcopy(alpha) \n",
        "\n",
        "\twhile(passes < max_passes):\n",
        "\t\tnum_changed_alphas=0\n",
        "\t\tfor i in range(X.shape[0]): \n",
        "\t\t\tE[i]=(predict(X,Y,alpha,b,X[i,:],sigma)-Y[i])\n",
        " \t\t\n",
        "\t\t\tif ( (-Y[i]*E[i]>tol and -alpha[i]>-C) or (Y[i]*E[i]>tol and alpha[i]>0) ):\n",
        "     \n",
        "\t\t\t\tj=np.random.choice(list(range(i)) + list(range(i+1, m)), size=1)[0]\n",
        "\n",
        "\t\n",
        "\t\t\t\tE[j] = (predict(X,Y,alpha,b,X[j,:],sigma)-Y[j])\n",
        "\n",
        "\t\t\t\talpha_old[i]=alpha[i]\n",
        "\t\t\t\talpha_old[j]=alpha[j]\n",
        "\t\t\t\t\n",
        "\t\t\t\tif (Y[i]!=Y[j]):\n",
        "\t\t\t\t\tL=max(0,alpha[j]-alpha[i])\n",
        "\t\t\t\t\tH=min(C,C+alpha[j]-alpha[i])\n",
        "\t\t\t\telse:\n",
        "\t\t\t\t\tL=max(0,alpha[i]+alpha[j]-C)\n",
        "\t\t\t\t\tH=min(C,alpha[i]+alpha[j])\n",
        "\t\t\n",
        "\t\t\t\tif (L==H):\n",
        "\t\t\t\t\tcontinue\n",
        "\t\t\t\teta = 2*gaussian_kernel(X[i,:],X[j,:],sigma)\n",
        "\t\t\t\teta=eta-gaussian_kernel(X[i,:],X[i,:],sigma)\n",
        "\t\t\t\teta=eta-gaussian_kernel(X[j,:],X[j,:],sigma)\n",
        "\t\t\t\n",
        "\t\t\t\tif (eta >= 0):\n",
        "\t\t\t\t\tcontinue\t\t\n",
        "\t\t\t\t\n",
        "\t\t\t\talpha[j]= alpha_old[j]-((Y[j]*(E[i]-E[j]))/eta)\n",
        "\n",
        "\t\t\t\tif (alpha[j] > H):\n",
        "\t\t\t\t\talpha[j]=H\n",
        "\t\t\t\telif (alpha[j]<L):\n",
        "\t\t\t\t\talpha[j]=L\n",
        "\t\t\t\telse:\n",
        "\t\t\t\t\tpass  \n",
        "\t\n",
        "\t\t\t\tif (abs(alpha[j]-alpha_old[j]) < tol):\n",
        "\t\t\t\t\tcontinue\n",
        "\t\t\t\n",
        "\t\t\t\talpha[i] += (Y[i]*Y[j]*(alpha_old[j] - alpha[j])) \n",
        "\n",
        "\n",
        "\t\t\t\tii = gaussian_kernel(X[i,:],X[i,:],sigma)\n",
        "\t\t\t\tij = gaussian_kernel(X[i,:],X[j,:],sigma)\n",
        "\t\t\t\tjj = gaussian_kernel(X[j,:],X[j,:],sigma)\t\t\t\n",
        "\n",
        "\t\t\t\tb1= b-E[i]- (Y[i]*ii*(alpha[i]-alpha_old[i]))- (Y[j]*ij*(alpha[j]-alpha_old[j]))\n",
        "\t\t\t\tb2= b-E[j]- (Y[i]*ij*(alpha[i]-alpha_old[i]))- (Y[j]*jj*(alpha[j]-alpha_old[j]))\n",
        "\t\t\t\tif (alpha[i] > 0 and alpha[i]<C):\n",
        "\t\t\t\t\tb=b1\n",
        "\t\t\t\telif (alpha[j] > 0 and alpha[j] <C):\n",
        "\t\t\t\t\tb=b2\n",
        "\t\t\t\telse:\n",
        "\t\t\t\t\tb=(b1+b2)/2.0\n",
        "\t\t\t\n",
        "\t\t\t\tnum_changed_alphas+=1\n",
        "\n",
        "\t\tif (num_changed_alphas == 0):\n",
        "\t\t\tpasses+=1\n",
        "\t\telse:\n",
        "\t\t\tpasses=0\n",
        "\n",
        "\treturn alpha,b   \n",
        "\t\t"
      ],
      "execution_count": 146,
      "outputs": []
    },
    {
      "cell_type": "code",
      "metadata": {
        "id": "rBdx1tsvt2YK",
        "outputId": "61f2c8da-36cb-43b4-b68f-edbd5375dde5",
        "colab": {
          "base_uri": "https://localhost:8080/"
        }
      },
      "source": [
        "sigma=2\n",
        "tot=math.pow(10,-3) #numerical tolerance\n",
        "iterate=5           #iteration wihtout changing alphas\n",
        "C=0.05              #regularization parameter\n",
        "\n",
        "alpha,bias= SMO(X_train,Y_train,C,tot,iterate,sigma)\n",
        "print(alpha)\n",
        "print(bias)"
      ],
      "execution_count": 147,
      "outputs": [
        {
          "output_type": "stream",
          "text": [
            "[[0.05      ]\n",
            " [0.05      ]\n",
            " [0.05      ]\n",
            " [0.        ]\n",
            " [0.        ]\n",
            " [0.05      ]\n",
            " [0.05      ]\n",
            " [0.05      ]\n",
            " [0.05      ]\n",
            " [0.05      ]\n",
            " [0.05      ]\n",
            " [0.05      ]\n",
            " [0.05      ]\n",
            " [0.        ]\n",
            " [0.05      ]\n",
            " [0.05      ]\n",
            " [0.05      ]\n",
            " [0.05      ]\n",
            " [0.05      ]\n",
            " [0.01632327]\n",
            " [0.05      ]\n",
            " [0.05      ]\n",
            " [0.05      ]\n",
            " [0.05      ]\n",
            " [0.05      ]\n",
            " [0.05      ]\n",
            " [0.05      ]\n",
            " [0.05      ]\n",
            " [0.05      ]\n",
            " [0.05      ]\n",
            " [0.05      ]\n",
            " [0.05      ]\n",
            " [0.05      ]\n",
            " [0.05      ]\n",
            " [0.        ]\n",
            " [0.05      ]\n",
            " [0.05      ]\n",
            " [0.05      ]\n",
            " [0.05      ]\n",
            " [0.05      ]\n",
            " [0.05      ]\n",
            " [0.05      ]\n",
            " [0.05      ]\n",
            " [0.05      ]\n",
            " [0.05      ]\n",
            " [0.05      ]\n",
            " [0.05      ]\n",
            " [0.05      ]\n",
            " [0.05      ]\n",
            " [0.05      ]\n",
            " [0.05      ]\n",
            " [0.05      ]\n",
            " [0.05      ]\n",
            " [0.00351849]\n",
            " [0.05      ]\n",
            " [0.05      ]\n",
            " [0.05      ]\n",
            " [0.05      ]\n",
            " [0.05      ]\n",
            " [0.05      ]\n",
            " [0.05      ]\n",
            " [0.05      ]\n",
            " [0.05      ]\n",
            " [0.05      ]\n",
            " [0.05      ]\n",
            " [0.05      ]\n",
            " [0.05      ]\n",
            " [0.05      ]\n",
            " [0.05      ]\n",
            " [0.05      ]\n",
            " [0.05      ]\n",
            " [0.05      ]\n",
            " [0.05      ]\n",
            " [0.05      ]\n",
            " [0.05      ]\n",
            " [0.05      ]\n",
            " [0.05      ]\n",
            " [0.05      ]\n",
            " [0.05      ]\n",
            " [0.05      ]\n",
            " [0.05      ]\n",
            " [0.05      ]\n",
            " [0.04648151]\n",
            " [0.05      ]\n",
            " [0.05      ]\n",
            " [0.05      ]\n",
            " [0.05      ]\n",
            " [0.05      ]\n",
            " [0.05      ]\n",
            " [0.05      ]\n",
            " [0.05      ]\n",
            " [0.05      ]\n",
            " [0.05      ]\n",
            " [0.        ]\n",
            " [0.05      ]\n",
            " [0.05      ]\n",
            " [0.05      ]\n",
            " [0.05      ]\n",
            " [0.05      ]\n",
            " [0.05      ]\n",
            " [0.        ]\n",
            " [0.05      ]\n",
            " [0.05      ]\n",
            " [0.05      ]\n",
            " [0.05      ]\n",
            " [0.05      ]\n",
            " [0.05      ]\n",
            " [0.05      ]\n",
            " [0.05      ]\n",
            " [0.05      ]\n",
            " [0.05      ]\n",
            " [0.05      ]\n",
            " [0.05      ]\n",
            " [0.05      ]\n",
            " [0.05      ]\n",
            " [0.        ]\n",
            " [0.05      ]\n",
            " [0.01824779]\n",
            " [0.05      ]\n",
            " [0.05      ]\n",
            " [0.05      ]\n",
            " [0.05      ]\n",
            " [0.05      ]\n",
            " [0.05      ]\n",
            " [0.05      ]\n",
            " [0.        ]\n",
            " [0.05      ]\n",
            " [0.05      ]\n",
            " [0.        ]\n",
            " [0.05      ]\n",
            " [0.05      ]\n",
            " [0.05      ]\n",
            " [0.05      ]\n",
            " [0.05      ]\n",
            " [0.        ]\n",
            " [0.05      ]\n",
            " [0.05      ]\n",
            " [0.05      ]\n",
            " [0.05      ]\n",
            " [0.05      ]\n",
            " [0.05      ]\n",
            " [0.05      ]\n",
            " [0.05      ]\n",
            " [0.05      ]\n",
            " [0.05      ]\n",
            " [0.05      ]\n",
            " [0.05      ]\n",
            " [0.        ]\n",
            " [0.00741176]\n",
            " [0.05      ]\n",
            " [0.05      ]\n",
            " [0.        ]\n",
            " [0.05      ]\n",
            " [0.05      ]\n",
            " [0.05      ]\n",
            " [0.05      ]\n",
            " [0.05      ]\n",
            " [0.05      ]\n",
            " [0.05      ]\n",
            " [0.05      ]\n",
            " [0.        ]\n",
            " [0.05      ]\n",
            " [0.05      ]\n",
            " [0.05      ]\n",
            " [0.        ]\n",
            " [0.05      ]\n",
            " [0.05      ]\n",
            " [0.05      ]\n",
            " [0.05      ]\n",
            " [0.        ]\n",
            " [0.05      ]\n",
            " [0.05      ]\n",
            " [0.05      ]\n",
            " [0.05      ]\n",
            " [0.05      ]\n",
            " [0.05      ]\n",
            " [0.05      ]\n",
            " [0.05      ]\n",
            " [0.        ]\n",
            " [0.05      ]\n",
            " [0.05      ]\n",
            " [0.05      ]\n",
            " [0.05      ]\n",
            " [0.05      ]\n",
            " [0.05      ]\n",
            " [0.05      ]\n",
            " [0.        ]\n",
            " [0.05      ]\n",
            " [0.05      ]\n",
            " [0.05      ]\n",
            " [0.05      ]\n",
            " [0.05      ]\n",
            " [0.05      ]\n",
            " [0.05      ]\n",
            " [0.05      ]\n",
            " [0.05      ]\n",
            " [0.05      ]\n",
            " [0.05      ]\n",
            " [0.05      ]\n",
            " [0.05      ]\n",
            " [0.        ]\n",
            " [0.05      ]\n",
            " [0.05      ]\n",
            " [0.05      ]\n",
            " [0.        ]\n",
            " [0.05      ]\n",
            " [0.05      ]\n",
            " [0.05      ]\n",
            " [0.05      ]\n",
            " [0.05      ]\n",
            " [0.        ]\n",
            " [0.05      ]\n",
            " [0.        ]\n",
            " [0.05      ]\n",
            " [0.05      ]\n",
            " [0.05      ]\n",
            " [0.        ]\n",
            " [0.05      ]\n",
            " [0.05      ]\n",
            " [0.05      ]\n",
            " [0.        ]\n",
            " [0.05      ]\n",
            " [0.05      ]\n",
            " [0.05      ]\n",
            " [0.05      ]\n",
            " [0.02434045]\n",
            " [0.03367673]]\n",
            "[-0.69395012]\n"
          ],
          "name": "stdout"
        }
      ]
    },
    {
      "cell_type": "code",
      "metadata": {
        "id": "urzdUrmTlBdO"
      },
      "source": [
        "def Error(X_train,Y_train,alpha,bias,X_test,Y_test,sigma):\n",
        "\n",
        "\tY_predict =np.zeros(shape=(Y_test.shape[0],1)) #predicted by svm \n",
        "\n",
        "\tfor i in range(X_test.shape[0]):\n",
        "\t\tif (predict(X_train,Y_train,alpha,bias,X_test[i,:],sigma) >= 0 ):\n",
        "\t\t\tY_predict[i]=1.0\n",
        "\t\telse:\n",
        "\t\t\tY_predict[i]=-1.0\n",
        "      \n",
        "\ttest_error=0.0\n",
        "\n",
        "\tfor i in range(Y_predict.shape[0]):\n",
        "\t\tif (Y_predict[i]!=Y_test[i]):\n",
        "\t\t\ttest_error+=1.0\n",
        "\n",
        "\treturn (1-(test_error/Y_test.shape[0]))*100.0"
      ],
      "execution_count": 148,
      "outputs": []
    },
    {
      "cell_type": "markdown",
      "metadata": {
        "id": "xY0RNMc9r6oA"
      },
      "source": [
        "**ERROR**"
      ]
    },
    {
      "cell_type": "code",
      "metadata": {
        "id": "M7Dng-sSrw-1",
        "outputId": "44da92c6-d0f4-4581-96a8-1f407eac8389",
        "colab": {
          "base_uri": "https://localhost:8080/"
        }
      },
      "source": [
        "err=Error(X_train,Y_train,alpha,bias,X_test,Y_test,sigma)\n",
        "print(\"% Error in our Model: \")\n",
        "print(err)"
      ],
      "execution_count": 149,
      "outputs": [
        {
          "output_type": "stream",
          "text": [
            "% Error in our Model: \n",
            "48.68421052631579\n"
          ],
          "name": "stdout"
        }
      ]
    },
    {
      "cell_type": "code",
      "metadata": {
        "id": "5Vx8-MCNmifE"
      },
      "source": [
        "def plot_decision_boundary(X_train,Y_train,alpha,bias):\n",
        "\n",
        "\tw=np.zeros(shape=(1,X_train.shape[1]))\n",
        " \n",
        "\tfor i in range(X_train.shape[0]):\n",
        "\n",
        "\t\tw=np.add(w,np.multiply(alpha[i]*Y_train[i],X_train[i,:]))\n",
        "\n",
        "\t\tif (Y_train[i]==1.0): \n",
        "\t\t\tplt.plot(X_train[i,0],X_train[i,1],'ro')\n",
        "\n",
        "\t\telse:\n",
        "\t\t\tplt.plot(X_train[i,0],X_train[i,1],'bo')\n",
        "   \n",
        "\txx = np.linspace(0,10.0,1000) \n",
        "\tyy = (-w[0,0] / w[0,1])* xx - (bias) / w[0,1] \n",
        "\tplt.plot(xx,yy,'k-')\n",
        "\t\n",
        "\txx = np.linspace(0,10.0,1000)\n",
        "\tyy = (-w[0,0] / w[0,1])* xx - (bias-1) / w[0,1]\n",
        "\tplt.plot(xx,yy,'c-')\n",
        "\t\n",
        "\n",
        "\txx = np.linspace(0,10.0,1000)\n",
        "\tyy = (-w[0,0] / w[0,1])* xx - (bias+1) / w[0,1] \n",
        "\tplt.plot(xx,yy,'m-')\n",
        "\t\n",
        "\tplt.xlim(0.0,2)\n",
        "\tplt.ylim(0.0,2)\n",
        "\n",
        "\tplt.xlabel(\"X1 feature\")\n",
        "\tplt.ylabel(\"X2 feature\")"
      ],
      "execution_count": 150,
      "outputs": []
    },
    {
      "cell_type": "code",
      "metadata": {
        "id": "bTOm7zMwrCrS",
        "outputId": "95f0becb-05b1-475d-eff5-ab14b8bbb883",
        "colab": {
          "base_uri": "https://localhost:8080/",
          "height": 283
        }
      },
      "source": [
        "plot_decision_boundary(X_train,Y_train,alpha,bias)"
      ],
      "execution_count": 151,
      "outputs": [
        {
          "output_type": "display_data",
          "data": {
            "image/png": "[encoded data removed]",
            "text/plain": [
              "<Figure size 432x288 with 1 Axes>"
            ]
          },
          "metadata": {
            "tags": [],
            "needs_background": "light"
          }
        }
      ]
    }
  ]
}