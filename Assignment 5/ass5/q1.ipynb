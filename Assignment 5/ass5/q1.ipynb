{
  "nbformat": 4,
  "nbformat_minor": 0,
  "metadata": {
    "kernelspec": {
      "display_name": "Python 3",
      "language": "python",
      "name": "python3"
    },
    "language_info": {
      "codemirror_mode": {
        "name": "ipython",
        "version": 3
      },
      "file_extension": ".py",
      "mimetype": "text/x-python",
      "name": "python",
      "nbconvert_exporter": "python",
      "pygments_lexer": "ipython3",
      "version": "3.7.7"
    },
    "colab": {
      "name": "iit2018146_q1.ipynb",
      "provenance": [],
      "collapsed_sections": []
    }
  },
  "cells": [
    {
      "cell_type": "code",
      "metadata": {
        "id": "P36NsuwcMrx5"
      },
      "source": [
        "import numpy as np\n",
        "import pandas as pda\n",
        "import matplotlib.pyplot as plt\n",
        "from numpy.linalg import inv\n",
        "import math\n",
        "from sklearn.metrics import confusion_matrix\n",
        "from sklearn.model_selection import train_test_split"
      ],
      "execution_count": 246,
      "outputs": []
    },
    {
      "cell_type": "code",
      "metadata": {
        "id": "hGgWukrTMryA"
      },
      "source": [
        "dataset = pda.read_csv('/microchip.csv')"
      ],
      "execution_count": 247,
      "outputs": []
    },
    {
      "cell_type": "code",
      "metadata": {
        "id": "ocXnzytzSENV",
        "outputId": "2e18acb5-4072-403c-a327-cd0b2d0fd36d",
        "colab": {
          "base_uri": "https://localhost:8080/",
          "height": 265
        }
      },
      "source": [
        "X=dataset.iloc[:,:-1].values\n",
        "Y=dataset.iloc[:,-1].values\n",
        "# print(X)\n",
        "# print(Y)\n",
        "fig, ax = plt.subplots() \n",
        "for i in range(len(X)):\n",
        "    if Y[i] == 1:\n",
        "        ax.plot(X[i][0], X[i][1], marker='o',color='b')\n",
        "    else:\n",
        "        ax.plot(X[i][0], X[i][1], marker='o',color='r')\n",
        "        "
      ],
      "execution_count": 248,
      "outputs": [
        {
          "output_type": "display_data",
          "data": {
            "image/png": "[encoded data removed]",
            "text/plain": [
              "<Figure size 432x288 with 1 Axes>"
            ]
          },
          "metadata": {
            "tags": [],
            "needs_background": "light"
          }
        }
      ]
    },
    {
      "cell_type": "code",
      "metadata": {
        "id": "iKlUVfXQSuwi"
      },
      "source": [
        "X_train,X_test,Y_train,Y_test=train_test_split(X,Y,test_size=0.3,random_state=81)"
      ],
      "execution_count": 249,
      "outputs": []
    },
    {
      "cell_type": "code",
      "metadata": {
        "id": "Drg9p4EKMryR"
      },
      "source": [
        "X_train = np.array(X_train)\n",
        "Y_train = np.array(Y_train)\n",
        "X_test = np.array(X_test)\n",
        "Y_test = np.array(Y_test)"
      ],
      "execution_count": 250,
      "outputs": []
    },
    {
      "cell_type": "markdown",
      "metadata": {
        "id": "ncX4ZQt3Ugga"
      },
      "source": [
        "**3 more feature added**"
      ]
    },
    {
      "cell_type": "code",
      "metadata": {
        "id": "QBHyZICRMryV"
      },
      "source": [
        "train_added = []\n",
        "test_added = []\n",
        "\n",
        "for i in range(len(X_train)):\n",
        "    train_added.append([X_train[i][0]**2,X_train[i][1]**2,X_train[i][0]*X_train[i][1]])\n",
        "for i in range(len(X_test)):\n",
        "    test_added.append([X_test[i][0]**2,X_test[i][1]**2,X_test[i][0]*X_test[i][1]])\n",
        "\n",
        "X_train = np.concatenate((X_train,train_added),axis=1)\n",
        "X_test = np.concatenate((X_test,test_added),axis=1)"
      ],
      "execution_count": 251,
      "outputs": []
    },
    {
      "cell_type": "code",
      "metadata": {
        "id": "PN5m9c0iMryf"
      },
      "source": [
        "minni = np.min(X_train,axis=0)\n",
        "maxxi = np.max(X_train,axis=0)\n",
        "X_train = (X_train - minni)/(maxxi - minni)\n",
        "minni = np.min(X_test,axis=0)\n",
        "maxxi = np.max(X_test,axis=0)\n",
        "X_test = (X_test - minni)/(maxxi - minni)"
      ],
      "execution_count": 252,
      "outputs": []
    },
    {
      "cell_type": "code",
      "metadata": {
        "id": "GVqZLBE-Mryu"
      },
      "source": [
        "X_one = []\n",
        "X_zero = []\n",
        "\n",
        "for i in range(len(Y_train)):\n",
        "    if Y_train[i] == 1:\n",
        "        X_one.append([X_train[i][0],X_train[i][1],X_train[i][2],X_train[i][3],X_train[i][4]])\n",
        "    else:\n",
        "        X_zero.append([X_train[i][0],X_train[i][1],X_train[i][2],X_train[i][3],X_train[i][4]])"
      ],
      "execution_count": 253,
      "outputs": []
    },
    {
      "cell_type": "code",
      "metadata": {
        "id": "vp5hT7O7Mryy"
      },
      "source": [
        "summa1 = np.sum(np.matrix(X_zero),axis = 0)/len(X_zero)\n",
        "summa2 = np.sum(np.matrix(X_one),axis = 0)/len(X_one)\n",
        "# print(summa1)\n",
        "# print(summa2)"
      ],
      "execution_count": 254,
      "outputs": []
    },
    {
      "cell_type": "markdown",
      "metadata": {
        "id": "pr-wX8avXUXs"
      },
      "source": [
        "**sigma calculation**"
      ]
    },
    {
      "cell_type": "code",
      "metadata": {
        "id": "6qvMI2L2Mry2"
      },
      "source": [
        "sigma = np.zeros((5,5))\n",
        "sigma0 = np.zeros((5,5))\n",
        "sigma1 = np.zeros((5,5))\n",
        "count = 0\n",
        "for i in range(len(X_train)):\n",
        "    if(Y_train[i] == 1):\n",
        "        sigma1 += np.dot(np.transpose(X_train[i]-summa2),X_train[i]-summa2)\n",
        "    else:\n",
        "        sigma0 += np.dot(np.transpose(X_train[i]-summa1),X_train[i]-summa1)\n",
        "sigma = (sigma1 + sigma0)/X_train.shape[0]\n",
        "sigma0 /= len(X_one)\n",
        "sigma1 /= len(X_zero)"
      ],
      "execution_count": 255,
      "outputs": []
    },
    {
      "cell_type": "markdown",
      "metadata": {
        "id": "XRTbkfwTXNvA"
      },
      "source": [
        "**probablity fun**"
      ]
    },
    {
      "cell_type": "code",
      "metadata": {
        "id": "6nnZowFkMrzB"
      },
      "source": [
        "def probablity_fun(x,mu,sigma):\n",
        "    m = len(x)\n",
        "    if m == mu.shape[1] and (m,m) == sigma.shape:\n",
        "        deter = np.linalg.det(sigma)\n",
        "        \n",
        "        temp = 1.0/(np.power((2*np.pi),float(m)/2)*np.power(deter,1.0/2))\n",
        "        xmu = np.matrix(x-mu)\n",
        "        siginv = inv(sigma)\n",
        "        res = np.power(np.e,-0.5*(np.dot(np.dot(xmu,siginv),np.transpose(xmu))))\n",
        "        return res*temp"
      ],
      "execution_count": 256,
      "outputs": []
    },
    {
      "cell_type": "markdown",
      "metadata": {
        "id": "ts029-nMXy8F"
      },
      "source": [
        "**Y Predictions**"
      ]
    },
    {
      "cell_type": "code",
      "metadata": {
        "id": "cSSHIb2IMrzE"
      },
      "source": [
        "Y_predicted = []\n",
        "for x in X_test:\n",
        "    pa = probablity_fun(x,np.squeeze(summa1),np.matrix(sigma0))\n",
        "    pc = probablity_fun(x,np.squeeze(summa2),np.matrix(sigma1))\n",
        "    if (pa<pc):\n",
        "        Y_predicted.append(1)\n",
        "    else:\n",
        "        Y_predicted.append(0)"
      ],
      "execution_count": 257,
      "outputs": []
    },
    {
      "cell_type": "markdown",
      "metadata": {
        "id": "dcE29Ye2X4Ep"
      },
      "source": [
        "**Accuracy Calculations**"
      ]
    },
    {
      "cell_type": "code",
      "metadata": {
        "id": "oajM6dDQMrzH",
        "outputId": "de73f0bb-6d7c-47a7-c1d5-731a82cdadfc",
        "colab": {
          "base_uri": "https://localhost:8080/",
          "height": 54
        }
      },
      "source": [
        "\n",
        "for i in range(len(Y_test)):\n",
        "    if(Y_predicted[i]==Y_test[i]):\n",
        "        count = count + 1\n",
        "accuracy = np.multiply(np.divide(count,len(Y_test)),100)\n",
        "\n",
        "print(\"Accuracy : \", accuracy)\n",
        "print(\"Actual match : \",count,\"/\",len(Y_test))"
      ],
      "execution_count": 258,
      "outputs": [
        {
          "output_type": "stream",
          "text": [
            "Accuracy :  72.22222222222221\n",
            "Actual match :  26 / 36\n"
          ],
          "name": "stdout"
        }
      ]
    },
    {
      "cell_type": "markdown",
      "metadata": {
        "id": "JewLxsLvjiSt"
      },
      "source": [
        "**Confusion Matrix**"
      ]
    },
    {
      "cell_type": "code",
      "metadata": {
        "id": "GnEVzoOoMrzP",
        "outputId": "8beb4b22-58a3-4147-ff55-dae24095c1ca",
        "colab": {
          "base_uri": "https://localhost:8080/",
          "height": 72
        }
      },
      "source": [
        "print(\"Confusion Matrix\")\n",
        "confusion_matrix(Y_test,Y_predicted)"
      ],
      "execution_count": 259,
      "outputs": [
        {
          "output_type": "stream",
          "text": [
            "Confusion Matrix\n"
          ],
          "name": "stdout"
        },
        {
          "output_type": "execute_result",
          "data": {
            "text/plain": [
              "array([[15,  3],\n",
              "       [ 7, 11]])"
            ]
          },
          "metadata": {
            "tags": []
          },
          "execution_count": 259
        }
      ]
    }
  ]
}