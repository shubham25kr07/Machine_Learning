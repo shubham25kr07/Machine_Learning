{
  "nbformat": 4,
  "nbformat_minor": 0,
  "metadata": {
    "colab": {
      "name": "iit2018146_ass9_ml.ipynb",
      "provenance": []
    },
    "kernelspec": {
      "name": "python3",
      "display_name": "Python 3"
    }
  },
  "cells": [
    {
      "cell_type": "code",
      "metadata": {
        "id": "Cax90niMKuhj"
      },
      "source": [
        "import numpy as np"
      ],
      "execution_count": 62,
      "outputs": []
    },
    {
      "cell_type": "code",
      "metadata": {
        "id": "-aKm-BmzKzGc"
      },
      "source": [
        "def Input():\n",
        "  X1=np.array([1,1,1,1,1,1]).reshape(6,1)\n",
        "  X2=np.array([-1,-1,-1,-1,-1,-1]).reshape(6,1)\n",
        "  X3=np.array([1,-1,-1,1,1,1]).reshape(6,1)\n",
        "  X4=np.array([1,1,-1,-1,-1,-1]).reshape(6,1)\n",
        "\n",
        "  Y1=np.array([1,1,1]).reshape(3,1)\n",
        "  Y2=np.array([-1,-1,-1]).reshape(3,1)\n",
        "  Y3=np.array([-1,1,1]).reshape(3,1)\n",
        "  Y4=np.array([1,-1,1]).reshape(3,1)\n",
        "\n",
        "  X = np.concatenate((X1, X2, X3, X4), axis = 1)\n",
        "  # print(X)\n",
        "  \n",
        "  Y = np.concatenate((Y1.T, Y2.T, Y3.T, Y4.T), axis = 0) \n",
        "  # print(Y)\n",
        "\n",
        "  return X,Y,X1,X2,X3,X4,Y1,Y2,Y3,Y4"
      ],
      "execution_count": 63,
      "outputs": []
    },
    {
      "cell_type": "markdown",
      "metadata": {
        "id": "RZG9UaAFSDd8"
      },
      "source": [
        "**INPUT GIVEN AND STORED IN X,Y**"
      ]
    },
    {
      "cell_type": "code",
      "metadata": {
        "id": "5GxpfZIXSCqz"
      },
      "source": [
        "X,Y,X1,X2,X3,X4,Y1,Y2,Y3,Y4 = Input()"
      ],
      "execution_count": 64,
      "outputs": []
    },
    {
      "cell_type": "markdown",
      "metadata": {
        "id": "CuZbo6U8SNDT"
      },
      "source": [
        "**WEIGHT CALCULATION**"
      ]
    },
    {
      "cell_type": "code",
      "metadata": {
        "id": "Y2E0BCKEOJ-G"
      },
      "source": [
        "def Calculate_Weight_Matrix(X,Y):\n",
        "  w=np.dot(X,Y)\n",
        "  # print(w)\n",
        "  return w"
      ],
      "execution_count": 65,
      "outputs": []
    },
    {
      "cell_type": "code",
      "metadata": {
        "id": "NkUXz2UjSQd8",
        "outputId": "a2017b64-312a-4ee2-c009-e8c5a905e4c6",
        "colab": {
          "base_uri": "https://localhost:8080/"
        }
      },
      "source": [
        "Weight = Calculate_Weight_Matrix(X,Y)\n",
        "print(Weight)"
      ],
      "execution_count": 66,
      "outputs": [
        {
          "output_type": "stream",
          "text": [
            "[[2 2 4]\n",
            " [4 0 2]\n",
            " [2 2 0]\n",
            " [0 4 2]\n",
            " [0 4 2]\n",
            " [0 4 2]]\n"
          ],
          "name": "stdout"
        }
      ]
    },
    {
      "cell_type": "markdown",
      "metadata": {
        "id": "g25v-SUISnXM"
      },
      "source": [
        "**TESTING FOR X**"
      ]
    },
    {
      "cell_type": "code",
      "metadata": {
        "id": "BNgZG9BASbYB"
      },
      "source": [
        "def Testing_X(x,Weight):\n",
        "  new_y = np.dot(Weight.T,x)\n",
        "\n",
        "  for i in range(len(new_y)):\n",
        "    if new_y[i]<0:\n",
        "      new_y[i]=-1\n",
        "    else:\n",
        "      new_y[i]=1\n",
        "\n",
        "  new_y=np.array(new_y)\n",
        "  print(new_y)"
      ],
      "execution_count": 67,
      "outputs": []
    },
    {
      "cell_type": "code",
      "metadata": {
        "id": "TZ8Um5j_O6Ai",
        "outputId": "28e1703a-ffec-4616-ba3e-1fbc5aeaedd8",
        "colab": {
          "base_uri": "https://localhost:8080/"
        }
      },
      "source": [
        "print(\"Y1 Value for X1:\")\n",
        "Testing_X(X1,Weight)\n",
        "print(\" \")\n",
        "print(\"Y2 Value for X2:\")\n",
        "Testing_X(X2,Weight)\n",
        "print(\" \")\n",
        "print(\"Y3 Value for X3:\")\n",
        "Testing_X(X3,Weight)\n",
        "print(\" \")\n",
        "print(\"Y4 Value for X4:\")\n",
        "Testing_X(X4,Weight)"
      ],
      "execution_count": 68,
      "outputs": [
        {
          "output_type": "stream",
          "text": [
            "Y1 Value for X1:\n",
            "[[1]\n",
            " [1]\n",
            " [1]]\n",
            " \n",
            "Y2 Value for X2:\n",
            "[[-1]\n",
            " [-1]\n",
            " [-1]]\n",
            " \n",
            "Y3 Value for X3:\n",
            "[[-1]\n",
            " [ 1]\n",
            " [ 1]]\n",
            " \n",
            "Y4 Value for X4:\n",
            "[[ 1]\n",
            " [-1]\n",
            " [ 1]]\n"
          ],
          "name": "stdout"
        }
      ]
    },
    {
      "cell_type": "markdown",
      "metadata": {
        "id": "b8hbAUJHUhXU"
      },
      "source": [
        "**TESTING FOR Y**"
      ]
    },
    {
      "cell_type": "code",
      "metadata": {
        "id": "svjV7VTKRSXt"
      },
      "source": [
        "def Testing_Y(y,Weight):\n",
        "  new_x = np.dot(Weight,y)\n",
        "\n",
        "  for i in range(len(new_x)):\n",
        "    if new_x[i]<=0:\n",
        "      new_x[i]=-1\n",
        "    else:\n",
        "      new_x[i]=1\n",
        "\n",
        "  new_x=np.array(new_x)\n",
        "  print(new_x)"
      ],
      "execution_count": 69,
      "outputs": []
    },
    {
      "cell_type": "code",
      "metadata": {
        "id": "yDfIgXE6VC9X",
        "outputId": "98d9f46f-b2df-4eea-d7d7-d38eca610f20",
        "colab": {
          "base_uri": "https://localhost:8080/"
        }
      },
      "source": [
        "print(\"X1 Value for Y1:\")\n",
        "Testing_Y(Y1,Weight)\n",
        "print(\" \")\n",
        "print(\"X2 Value for Y2:\")\n",
        "Testing_Y(Y2,Weight)\n",
        "print(\" \")\n",
        "print(\"X3 Value for Y3:\")\n",
        "Testing_Y(Y3,Weight)\n",
        "print(\" \")\n",
        "print(\"X4 Value for Y4:\")\n",
        "Testing_Y(Y4,Weight)"
      ],
      "execution_count": 70,
      "outputs": [
        {
          "output_type": "stream",
          "text": [
            "X1 Value for Y1:\n",
            "[[1]\n",
            " [1]\n",
            " [1]\n",
            " [1]\n",
            " [1]\n",
            " [1]]\n",
            " \n",
            "X2 Value for Y2:\n",
            "[[-1]\n",
            " [-1]\n",
            " [-1]\n",
            " [-1]\n",
            " [-1]\n",
            " [-1]]\n",
            " \n",
            "X3 Value for Y3:\n",
            "[[ 1]\n",
            " [-1]\n",
            " [-1]\n",
            " [ 1]\n",
            " [ 1]\n",
            " [ 1]]\n",
            " \n",
            "X4 Value for Y4:\n",
            "[[ 1]\n",
            " [ 1]\n",
            " [-1]\n",
            " [-1]\n",
            " [-1]\n",
            " [-1]]\n"
          ],
          "name": "stdout"
        }
      ]
    },
    {
      "cell_type": "markdown",
      "metadata": {
        "id": "7gS9Rqo-V0eU"
      },
      "source": [
        "As we can easily see that the BAM model has correctly predicted the Input X and Output Y, what was initially given ,\n",
        "So we can say that our model is correctly implemented.\n"
      ]
    }
  ]
}