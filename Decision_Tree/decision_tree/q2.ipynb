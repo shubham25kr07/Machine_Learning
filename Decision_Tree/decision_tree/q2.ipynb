{
  "nbformat": 4,
  "nbformat_minor": 0,
  "metadata": {
    "colab": {
      "name": "iit2018146_q2.ipynb",
      "provenance": []
    },
    "kernelspec": {
      "name": "python3",
      "display_name": "Python 3"
    }
  },
  "cells": [
    {
      "cell_type": "code",
      "metadata": {
        "id": "3sjsEQj1pBzP"
      },
      "source": [
        "import numpy as np\n",
        "import pandas as pd\n",
        "from math import log2\n",
        "import copy\n",
        "import random\n",
        "import matplotlib.pyplot as plt\n",
        "from sklearn.model_selection import train_test_split"
      ],
      "execution_count": 31,
      "outputs": []
    },
    {
      "cell_type": "code",
      "metadata": {
        "id": "zPHhdumspMSI"
      },
      "source": [
        "filepath=\"/Data.csv\""
      ],
      "execution_count": 32,
      "outputs": []
    },
    {
      "cell_type": "code",
      "metadata": {
        "id": "BizFg6AopPq9"
      },
      "source": [
        "def data_extract(filename):\n",
        "  data=pd.read_csv(filepath)\n",
        "  # data=data.sort_values('age')\n",
        "  X = np.array(data[\"slope\"])\n",
        "  Y = np.array(data[\"num\"])\n",
        "\n",
        "  return X,Y"
      ],
      "execution_count": 33,
      "outputs": []
    },
    {
      "cell_type": "code",
      "metadata": {
        "id": "xoMkgRRnpRd9",
        "outputId": "3489c7e8-82b7-48db-c420-4738b20e5113",
        "colab": {
          "base_uri": "https://localhost:8080/"
        }
      },
      "source": [
        "X,Y=data_extract(filepath)\n",
        "print(X)\n",
        "print(Y)"
      ],
      "execution_count": 34,
      "outputs": [
        {
          "output_type": "stream",
          "text": [
            "[3. 2. 2. 3. 1. 1. 3. 1. 2. 3. 2. 2. 2. 1. 1. 1. 3. 1. 1. 1. 2. 1. 2. 1.\n",
            " 2. 2. 1. 3. 1. 2. 1. 1. 1. 2. 1. 1. 2. 2. 2. 2. 2. 1. 1. 1. 1. 2. 1. 2.\n",
            " 1. 3. 1. 1. 1. 1. 1. 2. 2. 1. 3. 1. 2. 3. 2. 1. 2. 2. 2. 1. 3. 2. 1. 2.\n",
            " 2. 1. 1. 1. 2. 1. 2. 1. 2. 2. 1. 2. 1. 1. 1. 1. 1. 1. 2. 3. 2. 2. 1. 1.\n",
            " 2. 2. 1. 1. 1. 1. 1. 1. 2. 1. 1. 2. 2. 2. 2. 2. 2. 2. 2. 2. 1. 1. 1. 2.\n",
            " 1. 2. 2. 1. 2. 1. 1. 2. 1. 1. 1. 2. 2. 2. 2. 1. 1. 1. 1. 2. 2. 1. 2. 2.\n",
            " 2. 1. 2. 2. 1. 2. 1. 1. 3. 2. 2. 1. 1. 2. 2. 3. 2. 2. 3. 2. 1. 1. 2. 1.\n",
            " 1. 1. 2. 2. 3. 2. 2. 2. 1. 2. 1. 2. 2. 1. 2. 1. 1. 1. 2. 2. 2. 2. 3. 2.\n",
            " 1. 1. 2. 1. 1. 1. 2. 2. 1. 1. 1. 1. 1. 2. 2. 1. 2. 2. 2. 2. 1. 2. 1. 1.\n",
            " 2. 2. 1. 3. 1. 1. 3. 2. 1. 2. 1. 2. 2. 2. 2. 2. 2. 2. 1. 1. 1. 1. 1. 1.\n",
            " 1. 2. 2. 2. 1. 2. 1. 2. 2. 2. 1. 2. 1. 2. 2. 1. 1. 1. 1. 2. 2. 1. 1. 1.\n",
            " 2. 1. 2. 2. 1. 1. 1. 2. 3. 1. 2. 1. 1. 1. 1. 2. 1. 2. 1. 2. 1. 1. 2. 2.\n",
            " 2. 1. 2. 2. 1. 2. 1. 1. 2. 1. 1. 1. 2. 2. 2. 2. 1. 1. 1. 1. 2. 2. 1. 2.\n",
            " 2. 2. 1. 2. 2. 1. 2. 1. 1. 3. 2. 2. 1. 3. 2. 1. 3. 1. 2. 1. 2. 2. 2. 2.\n",
            " 2. 2. 1.]\n",
            "[0 1 1 0 0 0 1 0 1 1 0 0 1 0 0 0 1 0 0 0 0 0 1 1 1 0 0 0 0 1 0 1 1 0 0 0 1\n",
            " 1 1 0 1 0 0 0 1 1 0 1 0 0 0 0 1 0 1 1 1 1 0 0 1 0 1 0 1 1 1 0 1 1 0 1 1 1\n",
            " 1 0 1 0 0 1 0 0 0 1 0 0 0 0 0 0 0 1 0 0 0 1 1 1 0 0 0 0 0 0 1 0 1 1 1 1 1\n",
            " 1 0 1 1 0 0 0 1 1 0 0 0 0 0 0 1 0 1 0 0 1 1 1 1 1 0 1 0 1 0 1 0 0 0 1 0 1\n",
            " 0 1 0 1 1 1 0 0 1 1 0 1 1 0 1 1 0 0 0 0 0 0 0 0 1 1 1 0 0 1 0 1 0 1 1 0 0\n",
            " 0 0 0 0 1 1 1 1 1 1 0 0 1 0 0 0 0 0 0 1 0 1 0 1 0 1 1 0 1 0 0 1 1 0 0 1 0\n",
            " 0 1 1 1 0 1 1 1 0 1 0 0 0 1 0 0 0 0 0 1 1 1 0 1 0 1 0 1 1 0 0 0 0 0 0 0 0\n",
            " 1 1 0 0 0 1 1 0 1 1 0 0 1 1 1 0 0 0 0 0 1 0 1 1 1 1 0 0 1 0 0 0 0 0 0 0 1\n",
            " 0 1 0 0 1 1 1 1 1 0 1 0 1 0 1 0 0 0 1 0 1 0 1 0 1 1 1 0 0 0 1 0 1 1 1 0 1\n",
            " 1 1 1 1 1 0]\n"
          ],
          "name": "stdout"
        }
      ]
    },
    {
      "cell_type": "code",
      "metadata": {
        "id": "ro0l9nN0pT0I"
      },
      "source": [
        "def Training_Testing_data_extract(X,Y):\n",
        "  n = X.shape[0]\n",
        "  m=int(n*0.75)\n",
        "\n",
        "  X_train=X[:m]\n",
        "  Y_train=Y[:m]\n",
        "\n",
        "  X_test=X[m:]\n",
        "\n",
        "  Y_test=Y[m:]\n",
        "  return X_train,Y_train,X_test,Y_test"
      ],
      "execution_count": 35,
      "outputs": []
    },
    {
      "cell_type": "code",
      "metadata": {
        "id": "thJht1NApUVX",
        "outputId": "0362215c-7774-4599-c451-9fdb3d137c9c",
        "colab": {
          "base_uri": "https://localhost:8080/"
        }
      },
      "source": [
        "X_train,Y_train,X_test,Y_test=Training_Testing_data_extract(X,Y)\n",
        "# X_train,X_test,Y_train,Y_test=train_test_split(X, Y, test_size=0.33, random_state=42)\n",
        "print(X_train)\n",
        "print(X_test)\n"
      ],
      "execution_count": 36,
      "outputs": [
        {
          "output_type": "stream",
          "text": [
            "[3. 2. 2. 3. 1. 1. 3. 1. 2. 3. 2. 2. 2. 1. 1. 1. 3. 1. 1. 1. 2. 1. 2. 1.\n",
            " 2. 2. 1. 3. 1. 2. 1. 1. 1. 2. 1. 1. 2. 2. 2. 2. 2. 1. 1. 1. 1. 2. 1. 2.\n",
            " 1. 3. 1. 1. 1. 1. 1. 2. 2. 1. 3. 1. 2. 3. 2. 1. 2. 2. 2. 1. 3. 2. 1. 2.\n",
            " 2. 1. 1. 1. 2. 1. 2. 1. 2. 2. 1. 2. 1. 1. 1. 1. 1. 1. 2. 3. 2. 2. 1. 1.\n",
            " 2. 2. 1. 1. 1. 1. 1. 1. 2. 1. 1. 2. 2. 2. 2. 2. 2. 2. 2. 2. 1. 1. 1. 2.\n",
            " 1. 2. 2. 1. 2. 1. 1. 2. 1. 1. 1. 2. 2. 2. 2. 1. 1. 1. 1. 2. 2. 1. 2. 2.\n",
            " 2. 1. 2. 2. 1. 2. 1. 1. 3. 2. 2. 1. 1. 2. 2. 3. 2. 2. 3. 2. 1. 1. 2. 1.\n",
            " 1. 1. 2. 2. 3. 2. 2. 2. 1. 2. 1. 2. 2. 1. 2. 1. 1. 1. 2. 2. 2. 2. 3. 2.\n",
            " 1. 1. 2. 1. 1. 1. 2. 2. 1. 1. 1. 1. 1. 2. 2. 1. 2. 2. 2. 2. 1. 2. 1. 1.\n",
            " 2. 2. 1. 3. 1. 1. 3. 2. 1. 2. 1. 2. 2. 2. 2. 2. 2. 2. 1. 1. 1. 1. 1. 1.\n",
            " 1. 2. 2. 2. 1. 2. 1. 2. 2. 2. 1. 2. 1. 2.]\n",
            "[2. 1. 1. 1. 1. 2. 2. 1. 1. 1. 2. 1. 2. 2. 1. 1. 1. 2. 3. 1. 2. 1. 1. 1.\n",
            " 1. 2. 1. 2. 1. 2. 1. 1. 2. 2. 2. 1. 2. 2. 1. 2. 1. 1. 2. 1. 1. 1. 2. 2.\n",
            " 2. 2. 1. 1. 1. 1. 2. 2. 1. 2. 2. 2. 1. 2. 2. 1. 2. 1. 1. 3. 2. 2. 1. 3.\n",
            " 2. 1. 3. 1. 2. 1. 2. 2. 2. 2. 2. 2. 1.]\n"
          ],
          "name": "stdout"
        }
      ]
    },
    {
      "cell_type": "code",
      "metadata": {
        "id": "8zI0r4J618Rl",
        "outputId": "485c4e20-1dd5-4323-a1e0-67f534adbb48",
        "colab": {
          "base_uri": "https://localhost:8080/",
          "height": 283
        }
      },
      "source": [
        "plt.plot(X_train,Y_train,'ro')\n"
      ],
      "execution_count": 47,
      "outputs": [
        {
          "output_type": "execute_result",
          "data": {
            "text/plain": [
              "[<matplotlib.lines.Line2D at 0x7f3e3427bf28>]"
            ]
          },
          "metadata": {
            "tags": []
          },
          "execution_count": 47
        },
        {
          "output_type": "display_data",
          "data": {
            "image/png": "[encoded data removed]",
            "text/plain": [
              "<Figure size 432x288 with 1 Axes>"
            ]
          },
          "metadata": {
            "tags": [],
            "needs_background": "light"
          }
        }
      ]
    },
    {
      "cell_type": "code",
      "metadata": {
        "id": "3Y8ui-l-pWZv"
      },
      "source": [
        "def count_target_yes_no(Y_train):\n",
        "  target_yes=0\n",
        "  target_no=0\n",
        "  for i in range(len(Y_train)):\n",
        "    if Y_train[i]==0:\n",
        "      target_no=target_no+1\n",
        "    else:\n",
        "      target_yes=target_yes+1\n",
        "  \n",
        "  return target_no,target_yes"
      ],
      "execution_count": 37,
      "outputs": []
    },
    {
      "cell_type": "code",
      "metadata": {
        "id": "G2_B6XFut_g2",
        "outputId": "458322a5-f19e-4937-e1f7-929bc1c373bd",
        "colab": {
          "base_uri": "https://localhost:8080/"
        }
      },
      "source": [
        "target_no,target_yes=count_target_yes_no(Y_train)\n",
        "print(target_no)\n",
        "print(target_yes)"
      ],
      "execution_count": 38,
      "outputs": [
        {
          "output_type": "stream",
          "text": [
            "140\n",
            "114\n"
          ],
          "name": "stdout"
        }
      ]
    },
    {
      "cell_type": "code",
      "metadata": {
        "id": "nyFUaOadpoH1"
      },
      "source": [
        "def entropy(pos, neg):\n",
        "    total = pos + neg\n",
        "    p_pos = pos / total\n",
        "    p_neg = neg / total\n",
        "    return -(p_pos * log2(p_pos)) - (p_neg * log2(p_neg))"
      ],
      "execution_count": 39,
      "outputs": []
    },
    {
      "cell_type": "code",
      "metadata": {
        "id": "WKk3NbNMppXN"
      },
      "source": [
        "def I_gain(target_yes,target_no,pos,neg):\n",
        "    tot=target_yes+target_no\n",
        "    p_pos = target_yes / tot\n",
        "    p_neg = target_no / tot\n",
        "    ent=-(p_pos * log2(p_pos)) - (p_neg * log2(p_neg))\n",
        "    total = target_yes + target_no\n",
        "    left = pos + neg\n",
        "    right = total - left\n",
        "    return ent - (left / total) * entropy(pos, neg) - (right / total) * entropy(target_yes - pos, target_no - neg)"
      ],
      "execution_count": 40,
      "outputs": []
    },
    {
      "cell_type": "code",
      "metadata": {
        "id": "LN0gzkmlpyJX"
      },
      "source": [
        "def finding_the_node(X_train,Y_train,cnt1,cnt2,cnt3,cnt4,target_no,target_yes):\n",
        "\n",
        "  slope=0\n",
        "  for i in range(len(X_train)-1):\n",
        "    if Y_train[i] == 1:\n",
        "      if X_train[i] == 1:\n",
        "        cnt1 += 1\n",
        "      elif X_train[i] == 2:\n",
        "        cnt2 += 1\n",
        "      else:\n",
        "        continue\n",
        "\n",
        "    else:\n",
        "      if X_train[i] == 1:\n",
        "        cnt3 += 1\n",
        "      elif X_train[i] == 2:\n",
        "        cnt4 += 1\n",
        "      else:\n",
        "        continue\n",
        "  I_1=I_gain(target_yes,target_no,cnt1,cnt3)\n",
        "  I_2=I_gain(target_yes,target_no,cnt1+cnt2,cnt3+cnt4)\n",
        "\n",
        "  if I_1<I_2:\n",
        "    slope=0\n",
        "  else:\n",
        "    slope=1\n",
        "  return slope,max(I_1,I_2)"
      ],
      "execution_count": 41,
      "outputs": []
    },
    {
      "cell_type": "code",
      "metadata": {
        "id": "QIkQul-0uGwe"
      },
      "source": [
        "slope,I_gain=finding_the_node(X_train,Y_train,0,0,0,0,target_no,target_yes)"
      ],
      "execution_count": 42,
      "outputs": []
    },
    {
      "cell_type": "markdown",
      "metadata": {
        "id": "oqUrq4831ipz"
      },
      "source": [
        "**Slope**"
      ]
    },
    {
      "cell_type": "code",
      "metadata": {
        "id": "Vye04PTGu6Kg",
        "outputId": "1aac9d68-7562-4ca5-b45b-84bf6846728f",
        "colab": {
          "base_uri": "https://localhost:8080/"
        }
      },
      "source": [
        "print(\"slope \",slope)"
      ],
      "execution_count": 43,
      "outputs": [
        {
          "output_type": "stream",
          "text": [
            "slope  1\n"
          ],
          "name": "stdout"
        }
      ]
    },
    {
      "cell_type": "code",
      "metadata": {
        "id": "Jf3bupuju9jQ",
        "outputId": "51a4d477-fa29-4844-e5cb-41fc34334083",
        "colab": {
          "base_uri": "https://localhost:8080/"
        }
      },
      "source": [
        "print(\"I_gain \",I_gain)"
      ],
      "execution_count": 44,
      "outputs": [
        {
          "output_type": "stream",
          "text": [
            "I_gain  0.09859932828110707\n"
          ],
          "name": "stdout"
        }
      ]
    },
    {
      "cell_type": "markdown",
      "metadata": {
        "id": "-FVQKpOl1fiH"
      },
      "source": [
        "**Accuracy**"
      ]
    },
    {
      "cell_type": "code",
      "metadata": {
        "id": "-GUusdSxs1Y2"
      },
      "source": [
        "def find_accuracy(X_test,Y_test):\n",
        "  tot=0\n",
        "  for i in range(len(X_test)):\n",
        "    target=0\n",
        "    if X_test[i]>slope:\n",
        "      target=1\n",
        "      \n",
        "    if target==Y_test[i]:\n",
        "      tot=tot+1\n",
        "  acc=tot/len(X_test)\n",
        "  return acc"
      ],
      "execution_count": 45,
      "outputs": []
    },
    {
      "cell_type": "code",
      "metadata": {
        "id": "giZee969vHKs",
        "outputId": "02aad700-90b7-43d6-fc84-71b99c41dc27",
        "colab": {
          "base_uri": "https://localhost:8080/"
        }
      },
      "source": [
        "acc=find_accuracy(X_test,Y_test)\n",
        "print(acc*100)"
      ],
      "execution_count": 46,
      "outputs": [
        {
          "output_type": "stream",
          "text": [
            "65.88235294117646\n"
          ],
          "name": "stdout"
        }
      ]
    }
  ]
}