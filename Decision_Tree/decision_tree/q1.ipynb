{
  "nbformat": 4,
  "nbformat_minor": 0,
  "metadata": {
    "colab": {
      "name": "iit2018146_q1.ipynb",
      "provenance": [],
      "collapsed_sections": []
    },
    "kernelspec": {
      "name": "python3",
      "display_name": "Python 3"
    }
  },
  "cells": [
    {
      "cell_type": "code",
      "metadata": {
        "id": "_hD2tWqWQtNp"
      },
      "source": [
        "import numpy as np\n",
        "import pandas as pd\n",
        "import math\n",
        "import copy\n",
        "import random\n",
        "import matplotlib.pyplot as plt\n",
        "from sklearn.model_selection import train_test_split"
      ],
      "execution_count": 47,
      "outputs": []
    },
    {
      "cell_type": "code",
      "metadata": {
        "id": "_E07wMQOTuFW"
      },
      "source": [
        "filepath=\"/Data.csv\""
      ],
      "execution_count": 48,
      "outputs": []
    },
    {
      "cell_type": "code",
      "metadata": {
        "id": "bydWPSo3UTKh"
      },
      "source": [
        "def data_extract(filename):\n",
        "  data=pd.read_csv(filepath)\n",
        "  data=data.sort_values('age')\n",
        "  X = np.array(data[\"age\"])\n",
        "  Y = np.array(data[\"num\"])\n",
        "\n",
        "  return X,Y"
      ],
      "execution_count": 49,
      "outputs": []
    },
    {
      "cell_type": "code",
      "metadata": {
        "id": "hC6KD0FsUX5R",
        "outputId": "ca54a8d0-a97e-4f54-a161-577f78935c8a",
        "colab": {
          "base_uri": "https://localhost:8080/"
        }
      },
      "source": [
        "X,Y=data_extract(filepath)\n",
        "print(X)\n",
        "print(Y)"
      ],
      "execution_count": 50,
      "outputs": [
        {
          "output_type": "stream",
          "text": [
            "[29. 34. 34. 35. 35. 35. 35. 35. 37. 37. 38. 38. 39. 39. 39. 39. 39. 40.\n",
            " 40. 40. 40. 41. 41. 41. 41. 41. 41. 41. 41. 41. 41. 42. 42. 42. 42. 42.\n",
            " 42. 42. 42. 42. 42. 42. 43. 43. 43. 43. 43. 43. 43. 43. 43. 44. 44. 44.\n",
            " 44. 44. 44. 44. 44. 44. 44. 44. 44. 44. 45. 45. 45. 45. 45. 45. 45. 45.\n",
            " 46. 46. 46. 46. 46. 46. 46. 46. 47. 47. 47. 47. 47. 47. 48. 48. 48. 48.\n",
            " 48. 48. 48. 49. 49. 49. 49. 49. 50. 50. 50. 50. 50. 50. 50. 51. 51. 51.\n",
            " 51. 51. 51. 51. 51. 51. 51. 51. 51. 51. 52. 52. 52. 52. 52. 52. 52. 52.\n",
            " 52. 52. 52. 52. 52. 52. 53. 53. 53. 53. 53. 53. 53. 53. 54. 54. 54. 54.\n",
            " 54. 54. 54. 54. 54. 54. 54. 54. 54. 54. 54. 54. 55. 55. 55. 55. 55. 55.\n",
            " 55. 55. 55. 56. 56. 56. 56. 56. 56. 56. 56. 56. 56. 56. 56. 57. 57. 57.\n",
            " 57. 57. 57. 57. 57. 57. 57. 57. 57. 57. 57. 57. 57. 57. 57. 57. 57. 58.\n",
            " 58. 58. 58. 58. 58. 58. 58. 58. 58. 58. 58. 58. 58. 58. 58. 58. 58. 58.\n",
            " 58. 58. 58. 58. 58. 59. 59. 59. 59. 59. 59. 59. 59. 59. 59. 59. 59. 59.\n",
            " 59. 59. 59. 60. 60. 60. 60. 60. 60. 60. 60. 60. 60. 60. 60. 60. 61. 61.\n",
            " 61. 61. 61. 61. 61. 61. 61. 61. 61. 62. 62. 62. 62. 62. 62. 62. 62. 62.\n",
            " 62. 62. 63. 63. 63. 63. 63. 63. 63. 63. 63. 64. 64. 64. 64. 64. 64. 64.\n",
            " 64. 64. 64. 64. 65. 65. 65. 65. 65. 65. 65. 65. 66. 66. 66. 66. 66. 66.\n",
            " 66. 66. 66. 67. 67. 67. 67. 67. 67. 67. 67. 67. 67. 68. 68. 68. 68. 69.\n",
            " 69. 69. 70. 70. 70. 70. 70. 71. 71. 71. 71. 74. 76. 76. 77.]\n",
            "[0 0 0 1 1 0 0 0 0 0 1 0 1 0 0 0 0 1 1 1 0 0 1 0 0 0 0 0 0 0 0 0 0 1 0 0 0\n",
            " 0 0 1 0 0 1 0 0 0 0 1 0 0 1 1 0 0 0 0 0 0 0 0 0 1 0 1 0 0 0 1 0 1 0 0 0 1\n",
            " 0 1 0 0 1 1 0 0 1 1 0 0 1 0 1 0 0 0 1 1 0 0 1 0 0 1 0 0 1 0 1 1 0 0 0 0 0\n",
            " 1 0 0 0 0 0 1 0 1 1 0 0 1 1 0 0 0 1 0 0 0 1 0 0 0 0 1 0 0 1 1 0 1 0 0 0 0\n",
            " 0 0 0 0 0 1 1 1 1 1 0 1 1 1 1 0 0 0 1 1 0 1 0 1 0 0 0 1 1 1 0 0 1 1 1 0 1\n",
            " 0 1 0 1 1 0 0 1 1 1 1 1 1 1 1 0 1 1 1 1 1 1 1 0 1 0 1 0 1 0 1 1 0 0 0 0 1\n",
            " 1 0 1 1 0 1 1 1 0 1 1 0 1 0 1 0 0 1 1 1 1 1 1 1 0 1 1 0 1 1 1 1 1 0 1 1 1\n",
            " 1 1 1 1 1 1 0 1 0 1 1 0 0 1 1 1 0 0 1 0 1 1 0 1 0 0 0 1 0 0 1 0 1 0 1 1 1\n",
            " 0 1 0 0 0 0 0 0 1 1 0 1 0 0 1 0 1 0 1 1 1 1 0 0 1 1 0 0 0 1 1 0 1 0 1 0 0\n",
            " 0 0 0 0 0 1]\n"
          ],
          "name": "stdout"
        }
      ]
    },
    {
      "cell_type": "code",
      "metadata": {
        "id": "STi3IEMGasne"
      },
      "source": [
        "def Training_Testing_data_extract(X,Y):\n",
        "  n = X.shape[0]\n",
        "  m=int(n*0.75)\n",
        "\n",
        "  X_train=X[:m]\n",
        "  Y_train=Y[:m]\n",
        "\n",
        "  X_test=X[m:]\n",
        "\n",
        "  Y_test=Y[m:]\n",
        "  return X_train,Y_train,X_test,Y_test"
      ],
      "execution_count": 51,
      "outputs": []
    },
    {
      "cell_type": "code",
      "metadata": {
        "id": "JNs6SAyeatvS",
        "outputId": "92aa327b-a3a9-4954-a91f-22c980784fff",
        "colab": {
          "base_uri": "https://localhost:8080/"
        }
      },
      "source": [
        "X_train,Y_train,X_test,Y_test=Training_Testing_data_extract(X,Y)\n",
        "# X_train,X_test,Y_train,Y_test=train_test_split(X, Y, test_size=0.33, random_state=42)\n",
        "print(X_train)\n",
        "print(X_test)"
      ],
      "execution_count": 61,
      "outputs": [
        {
          "output_type": "stream",
          "text": [
            "[29. 34. 34. 35. 35. 35. 35. 35. 37. 37. 38. 38. 39. 39. 39. 39. 39. 40.\n",
            " 40. 40. 40. 41. 41. 41. 41. 41. 41. 41. 41. 41. 41. 42. 42. 42. 42. 42.\n",
            " 42. 42. 42. 42. 42. 42. 43. 43. 43. 43. 43. 43. 43. 43. 43. 44. 44. 44.\n",
            " 44. 44. 44. 44. 44. 44. 44. 44. 44. 44. 45. 45. 45. 45. 45. 45. 45. 45.\n",
            " 46. 46. 46. 46. 46. 46. 46. 46. 47. 47. 47. 47. 47. 47. 48. 48. 48. 48.\n",
            " 48. 48. 48. 49. 49. 49. 49. 49. 50. 50. 50. 50. 50. 50. 50. 51. 51. 51.\n",
            " 51. 51. 51. 51. 51. 51. 51. 51. 51. 51. 52. 52. 52. 52. 52. 52. 52. 52.\n",
            " 52. 52. 52. 52. 52. 52. 53. 53. 53. 53. 53. 53. 53. 53. 54. 54. 54. 54.\n",
            " 54. 54. 54. 54. 54. 54. 54. 54. 54. 54. 54. 54. 55. 55. 55. 55. 55. 55.\n",
            " 55. 55. 55. 56. 56. 56. 56. 56. 56. 56. 56. 56. 56. 56. 56. 57. 57. 57.\n",
            " 57. 57. 57. 57. 57. 57. 57. 57. 57. 57. 57. 57. 57. 57. 57. 57. 57. 58.\n",
            " 58. 58. 58. 58. 58. 58. 58. 58. 58. 58. 58. 58. 58. 58. 58. 58. 58. 58.\n",
            " 58. 58. 58. 58. 58. 59. 59. 59. 59. 59. 59. 59. 59. 59. 59. 59. 59. 59.\n",
            " 59. 59. 59. 60. 60. 60. 60. 60. 60. 60. 60. 60. 60. 60. 60. 60. 61. 61.\n",
            " 61. 61.]\n",
            "[61. 61. 61. 61. 61. 61. 61. 62. 62. 62. 62. 62. 62. 62. 62. 62. 62. 62.\n",
            " 63. 63. 63. 63. 63. 63. 63. 63. 63. 64. 64. 64. 64. 64. 64. 64. 64. 64.\n",
            " 64. 64. 65. 65. 65. 65. 65. 65. 65. 65. 66. 66. 66. 66. 66. 66. 66. 66.\n",
            " 66. 67. 67. 67. 67. 67. 67. 67. 67. 67. 67. 68. 68. 68. 68. 69. 69. 69.\n",
            " 70. 70. 70. 70. 70. 71. 71. 71. 71. 74. 76. 76. 77.]\n"
          ],
          "name": "stdout"
        }
      ]
    },
    {
      "cell_type": "code",
      "metadata": {
        "id": "4AHFLk662J1D",
        "outputId": "dc7f9c4b-81c6-4146-eb5b-81c4b6a1dbd0",
        "colab": {
          "base_uri": "https://localhost:8080/",
          "height": 283
        }
      },
      "source": [
        "plt.plot(X_train,Y_train,'ro')\n"
      ],
      "execution_count": 72,
      "outputs": [
        {
          "output_type": "execute_result",
          "data": {
            "text/plain": [
              "[<matplotlib.lines.Line2D at 0x7f3e2c0ce908>]"
            ]
          },
          "metadata": {
            "tags": []
          },
          "execution_count": 72
        },
        {
          "output_type": "display_data",
          "data": {
            "image/png": "[encoded data removed]",
            "text/plain": [
              "<Figure size 432x288 with 1 Axes>"
            ]
          },
          "metadata": {
            "tags": [],
            "needs_background": "light"
          }
        }
      ]
    },
    {
      "cell_type": "code",
      "metadata": {
        "id": "3q7f8yj6cYRB"
      },
      "source": [
        "def count_target_yes_no(Y_train):\n",
        "  target_yes=0\n",
        "  target_no=0\n",
        "  for i in range(len(Y_train)):\n",
        "    if Y_train[i]==0:\n",
        "      target_no=target_no+1\n",
        "    else:\n",
        "      target_yes=target_yes+1\n",
        "  \n",
        "  return target_no,target_yes"
      ],
      "execution_count": 62,
      "outputs": []
    },
    {
      "cell_type": "code",
      "metadata": {
        "id": "oxo_7d3Vdi22",
        "outputId": "d3eb310b-d0f2-49a9-ebc0-0b9010085fa7",
        "colab": {
          "base_uri": "https://localhost:8080/"
        }
      },
      "source": [
        "target_no,target_yes=count_target_yes_no(Y_train)\n",
        "print(target_no)\n",
        "print(target_yes)"
      ],
      "execution_count": 63,
      "outputs": [
        {
          "output_type": "stream",
          "text": [
            "142\n",
            "112\n"
          ],
          "name": "stdout"
        }
      ]
    },
    {
      "cell_type": "code",
      "metadata": {
        "id": "ztnsPJqmdI67"
      },
      "source": [
        "def calculate_gini_impurity(cnt_one,cnt_zero,temp_one,temp_zero):\n",
        "    x1=cnt_one+cnt_zero #\n",
        "    x2=temp_one+temp_zero\n",
        "    y1=1 - (cnt_one / x1) ** 2 - (cnt_zero / x1) ** 2\n",
        "    y2=1 - (temp_one / x2) ** 2 - (temp_zero / x2) ** 2\n",
        "    I = x1 / (x1 + x2) * y1 + x2 / (x1 + x2) * y2\n",
        "    return I"
      ],
      "execution_count": 64,
      "outputs": []
    },
    {
      "cell_type": "code",
      "metadata": {
        "id": "0C6CBSHIdlWH"
      },
      "source": [
        "def finding_the_node(X_train,Y_train,cnt_zero,cnt_one,target_no,target_yes):\n",
        "  minn=float('inf')\n",
        "  root_age=0\n",
        "  for i in range(len(X_train)-1):\n",
        "\n",
        "    if Y_train[i]==0:\n",
        "      cnt_zero=cnt_zero+1\n",
        "    else:\n",
        "      cnt_one=cnt_one+1\n",
        "\n",
        "    if X_train[i]==X_train[i+1]:\n",
        "      continue\n",
        "    temp_zero=target_no-cnt_zero\n",
        "    temp_one=target_yes-cnt_one\n",
        "    I=calculate_gini_impurity(cnt_one,cnt_zero,temp_one,temp_zero)\n",
        "\n",
        "    if I<minn:\n",
        "      minn=I\n",
        "      root_age=(X_train[i]+X_train[i+1])/2\n",
        "  \n",
        "  return root_age,minn"
      ],
      "execution_count": 65,
      "outputs": []
    },
    {
      "cell_type": "code",
      "metadata": {
        "id": "Z_XEFqLuligU"
      },
      "source": [
        "age,Gini_impurity=finding_the_node(X_train,Y_train,0,0,target_no,target_yes)"
      ],
      "execution_count": 66,
      "outputs": []
    },
    {
      "cell_type": "markdown",
      "metadata": {
        "id": "5aBJ9bjg1CeD"
      },
      "source": [
        "**Age**"
      ]
    },
    {
      "cell_type": "code",
      "metadata": {
        "id": "mdZf9lP8kERj",
        "outputId": "1fa3ec89-ad25-40bb-c002-b517ed7f5cb8",
        "colab": {
          "base_uri": "https://localhost:8080/"
        }
      },
      "source": [
        "print(\"Age\", age)"
      ],
      "execution_count": 67,
      "outputs": [
        {
          "output_type": "stream",
          "text": [
            "Age 54.5\n"
          ],
          "name": "stdout"
        }
      ]
    },
    {
      "cell_type": "code",
      "metadata": {
        "id": "iAYUV8bFtVOD",
        "outputId": "fd3d4a21-fdcc-45c1-c9f8-76525dcec3b0",
        "colab": {
          "base_uri": "https://localhost:8080/"
        }
      },
      "source": [
        "print(\"Gini Impurity \" ,Gini_impurity)"
      ],
      "execution_count": 70,
      "outputs": [
        {
          "output_type": "stream",
          "text": [
            "Gini Impurity  0.4364948886883645\n"
          ],
          "name": "stdout"
        }
      ]
    },
    {
      "cell_type": "markdown",
      "metadata": {
        "id": "4hAJi_Re0_Pl"
      },
      "source": [
        "**Accuracy**"
      ]
    },
    {
      "cell_type": "code",
      "metadata": {
        "id": "pFnsT4RnkQx9"
      },
      "source": [
        "def find_accuracy(X_test,Y_test):\n",
        "  tot=0\n",
        "  for i in range(len(X_test)):\n",
        "    target=0\n",
        "    if X_test[i]>age:\n",
        "      target=1\n",
        "      \n",
        "    if target==Y_test[i]:\n",
        "      tot=tot+1\n",
        "  acc=tot/len(X_test)\n",
        "  return acc"
      ],
      "execution_count": 68,
      "outputs": []
    },
    {
      "cell_type": "code",
      "metadata": {
        "id": "jrmKvGN1l36j",
        "outputId": "d88d613f-d726-4175-9026-b50aae15b272",
        "colab": {
          "base_uri": "https://localhost:8080/"
        }
      },
      "source": [
        "acc=find_accuracy(X_test,Y_test)\n",
        "print(acc*100)"
      ],
      "execution_count": 71,
      "outputs": [
        {
          "output_type": "stream",
          "text": [
            "50.588235294117645\n"
          ],
          "name": "stdout"
        }
      ]
    }
  ]
}